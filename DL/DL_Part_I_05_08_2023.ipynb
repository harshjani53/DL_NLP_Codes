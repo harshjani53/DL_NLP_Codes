{
  "nbformat": 4,
  "nbformat_minor": 0,
  "metadata": {
    "colab": {
      "provenance": []
    },
    "kernelspec": {
      "name": "python3",
      "display_name": "Python 3"
    },
    "language_info": {
      "name": "python"
    }
  },
  "cells": [
    {
      "cell_type": "code",
      "execution_count": null,
      "metadata": {
        "id": "OEMRDW1dws13"
      },
      "outputs": [],
      "source": [
        "from keras.models import Sequential\n",
        "from keras.layers import Dense\n",
        "import numpy as np"
      ]
    },
    {
      "cell_type": "code",
      "source": [
        "seed=7\n",
        "np.random.seed(seed)"
      ],
      "metadata": {
        "id": "bwqgtRWaxH8C"
      },
      "execution_count": null,
      "outputs": []
    },
    {
      "cell_type": "code",
      "source": [
        "dataset=np.loadtxt('https://raw.githubusercontent.com/jbrownlee/Datasets/master/pima-indians-diabetes.data.csv',delimiter=',')"
      ],
      "metadata": {
        "id": "CCnFR1R3xRjs"
      },
      "execution_count": null,
      "outputs": []
    },
    {
      "cell_type": "code",
      "source": [
        "dataset"
      ],
      "metadata": {
        "colab": {
          "base_uri": "https://localhost:8080/"
        },
        "id": "N-vyOXrbxiJs",
        "outputId": "d24533e9-df32-4b6b-9b61-f306718295ed"
      },
      "execution_count": null,
      "outputs": [
        {
          "output_type": "execute_result",
          "data": {
            "text/plain": [
              "array([[  6.   , 148.   ,  72.   , ...,   0.627,  50.   ,   1.   ],\n",
              "       [  1.   ,  85.   ,  66.   , ...,   0.351,  31.   ,   0.   ],\n",
              "       [  8.   , 183.   ,  64.   , ...,   0.672,  32.   ,   1.   ],\n",
              "       ...,\n",
              "       [  5.   , 121.   ,  72.   , ...,   0.245,  30.   ,   0.   ],\n",
              "       [  1.   , 126.   ,  60.   , ...,   0.349,  47.   ,   1.   ],\n",
              "       [  1.   ,  93.   ,  70.   , ...,   0.315,  23.   ,   0.   ]])"
            ]
          },
          "metadata": {},
          "execution_count": 4
        }
      ]
    },
    {
      "cell_type": "code",
      "source": [
        "X=dataset[:,0:8]"
      ],
      "metadata": {
        "id": "4quRnl61xk3O"
      },
      "execution_count": null,
      "outputs": []
    },
    {
      "cell_type": "code",
      "source": [
        "X.shape"
      ],
      "metadata": {
        "colab": {
          "base_uri": "https://localhost:8080/"
        },
        "id": "5Z12hTaXx858",
        "outputId": "466ab84a-bcd8-4a3e-c1d9-f5a0cec45056"
      },
      "execution_count": null,
      "outputs": [
        {
          "output_type": "execute_result",
          "data": {
            "text/plain": [
              "(768, 8)"
            ]
          },
          "metadata": {},
          "execution_count": 12
        }
      ]
    },
    {
      "cell_type": "code",
      "source": [
        "Y=dataset[:,8]"
      ],
      "metadata": {
        "id": "iU2_uKHWxpwU"
      },
      "execution_count": null,
      "outputs": []
    },
    {
      "cell_type": "code",
      "source": [
        "Y.shape"
      ],
      "metadata": {
        "colab": {
          "base_uri": "https://localhost:8080/"
        },
        "id": "Z5y7AOxIyXu_",
        "outputId": "cdf4a537-b585-45cf-9eeb-97733ed5776c"
      },
      "execution_count": null,
      "outputs": [
        {
          "output_type": "execute_result",
          "data": {
            "text/plain": [
              "(768,)"
            ]
          },
          "metadata": {},
          "execution_count": 13
        }
      ]
    },
    {
      "cell_type": "code",
      "source": [
        "model=Sequential()\n",
        "model.add(Dense(12,input_dim=8,activation='relu'))\n",
        "model.add(Dense(8,activation='relu'))\n",
        "model.add(Dense(1,activation='sigmoid'))"
      ],
      "metadata": {
        "id": "aKs126CWzQ2e"
      },
      "execution_count": null,
      "outputs": []
    },
    {
      "cell_type": "code",
      "source": [
        "model.compile(loss='binary_crossentropy', optimizer='adam',metrics=['accuracy'])"
      ],
      "metadata": {
        "id": "2hT1Re9_0Car"
      },
      "execution_count": null,
      "outputs": []
    },
    {
      "cell_type": "code",
      "source": [
        "model.fit(X,Y,validation_split=0.33,epochs=150,batch_size=10)"
      ],
      "metadata": {
        "colab": {
          "base_uri": "https://localhost:8080/"
        },
        "id": "7ZQ2owha0PKL",
        "outputId": "83a4fed7-745a-4074-c534-b39d0dfc9397"
      },
      "execution_count": null,
      "outputs": [
        {
          "output_type": "stream",
          "name": "stdout",
          "text": [
            "Epoch 1/150\n",
            "52/52 [==============================] - 2s 10ms/step - loss: 7.4891 - accuracy: 0.3891 - val_loss: 3.2843 - val_accuracy: 0.4843\n",
            "Epoch 2/150\n",
            "52/52 [==============================] - 0s 5ms/step - loss: 2.1374 - accuracy: 0.6109 - val_loss: 1.2499 - val_accuracy: 0.6181\n",
            "Epoch 3/150\n",
            "52/52 [==============================] - 0s 5ms/step - loss: 1.1331 - accuracy: 0.5778 - val_loss: 0.8183 - val_accuracy: 0.6181\n",
            "Epoch 4/150\n",
            "52/52 [==============================] - 0s 6ms/step - loss: 0.8995 - accuracy: 0.5778 - val_loss: 0.7379 - val_accuracy: 0.5866\n",
            "Epoch 5/150\n",
            "52/52 [==============================] - 0s 5ms/step - loss: 0.8118 - accuracy: 0.5875 - val_loss: 0.6885 - val_accuracy: 0.6417\n",
            "Epoch 6/150\n",
            "52/52 [==============================] - 0s 5ms/step - loss: 0.7566 - accuracy: 0.6128 - val_loss: 0.6819 - val_accuracy: 0.5787\n",
            "Epoch 7/150\n",
            "52/52 [==============================] - 0s 4ms/step - loss: 0.7228 - accuracy: 0.6089 - val_loss: 0.6255 - val_accuracy: 0.6614\n",
            "Epoch 8/150\n",
            "52/52 [==============================] - 0s 4ms/step - loss: 0.6954 - accuracy: 0.6440 - val_loss: 0.6139 - val_accuracy: 0.6890\n",
            "Epoch 9/150\n",
            "52/52 [==============================] - 0s 4ms/step - loss: 0.6714 - accuracy: 0.6420 - val_loss: 0.6077 - val_accuracy: 0.6850\n",
            "Epoch 10/150\n",
            "52/52 [==============================] - 0s 4ms/step - loss: 0.6652 - accuracy: 0.6634 - val_loss: 0.6044 - val_accuracy: 0.6614\n",
            "Epoch 11/150\n",
            "52/52 [==============================] - 0s 3ms/step - loss: 0.6533 - accuracy: 0.6634 - val_loss: 0.6006 - val_accuracy: 0.6772\n",
            "Epoch 12/150\n",
            "52/52 [==============================] - 0s 4ms/step - loss: 0.6360 - accuracy: 0.6926 - val_loss: 0.5970 - val_accuracy: 0.6929\n",
            "Epoch 13/150\n",
            "52/52 [==============================] - 0s 4ms/step - loss: 0.6299 - accuracy: 0.6693 - val_loss: 0.6062 - val_accuracy: 0.6929\n",
            "Epoch 14/150\n",
            "52/52 [==============================] - 0s 4ms/step - loss: 0.6246 - accuracy: 0.6576 - val_loss: 0.6297 - val_accuracy: 0.6654\n",
            "Epoch 15/150\n",
            "52/52 [==============================] - 0s 3ms/step - loss: 0.6231 - accuracy: 0.6654 - val_loss: 0.6032 - val_accuracy: 0.7087\n",
            "Epoch 16/150\n",
            "52/52 [==============================] - 0s 3ms/step - loss: 0.6236 - accuracy: 0.6751 - val_loss: 0.5932 - val_accuracy: 0.7087\n",
            "Epoch 17/150\n",
            "52/52 [==============================] - 0s 3ms/step - loss: 0.6141 - accuracy: 0.6712 - val_loss: 0.5907 - val_accuracy: 0.7087\n",
            "Epoch 18/150\n",
            "52/52 [==============================] - 0s 4ms/step - loss: 0.6151 - accuracy: 0.6751 - val_loss: 0.5989 - val_accuracy: 0.6850\n",
            "Epoch 19/150\n",
            "52/52 [==============================] - 0s 4ms/step - loss: 0.6162 - accuracy: 0.6770 - val_loss: 0.5924 - val_accuracy: 0.7047\n",
            "Epoch 20/150\n",
            "52/52 [==============================] - 0s 4ms/step - loss: 0.6088 - accuracy: 0.6770 - val_loss: 0.5878 - val_accuracy: 0.7126\n",
            "Epoch 21/150\n",
            "52/52 [==============================] - 0s 3ms/step - loss: 0.6031 - accuracy: 0.6926 - val_loss: 0.5885 - val_accuracy: 0.7087\n",
            "Epoch 22/150\n",
            "52/52 [==============================] - 0s 4ms/step - loss: 0.6029 - accuracy: 0.6712 - val_loss: 0.5950 - val_accuracy: 0.6969\n",
            "Epoch 23/150\n",
            "52/52 [==============================] - 0s 3ms/step - loss: 0.6072 - accuracy: 0.6848 - val_loss: 0.5985 - val_accuracy: 0.6772\n",
            "Epoch 24/150\n",
            "52/52 [==============================] - 0s 4ms/step - loss: 0.5974 - accuracy: 0.6770 - val_loss: 0.5941 - val_accuracy: 0.6929\n",
            "Epoch 25/150\n",
            "52/52 [==============================] - 0s 3ms/step - loss: 0.5930 - accuracy: 0.6887 - val_loss: 0.6484 - val_accuracy: 0.6575\n",
            "Epoch 26/150\n",
            "52/52 [==============================] - 0s 3ms/step - loss: 0.6045 - accuracy: 0.6790 - val_loss: 0.6010 - val_accuracy: 0.6732\n",
            "Epoch 27/150\n",
            "52/52 [==============================] - 0s 4ms/step - loss: 0.5912 - accuracy: 0.6751 - val_loss: 0.5845 - val_accuracy: 0.7165\n",
            "Epoch 28/150\n",
            "52/52 [==============================] - 0s 5ms/step - loss: 0.5907 - accuracy: 0.6829 - val_loss: 0.5830 - val_accuracy: 0.7047\n",
            "Epoch 29/150\n",
            "52/52 [==============================] - 0s 5ms/step - loss: 0.5851 - accuracy: 0.6946 - val_loss: 0.5910 - val_accuracy: 0.7008\n",
            "Epoch 30/150\n",
            "52/52 [==============================] - 0s 5ms/step - loss: 0.5918 - accuracy: 0.7043 - val_loss: 0.5798 - val_accuracy: 0.7165\n",
            "Epoch 31/150\n",
            "52/52 [==============================] - 0s 5ms/step - loss: 0.5958 - accuracy: 0.6926 - val_loss: 0.6105 - val_accuracy: 0.6890\n",
            "Epoch 32/150\n",
            "52/52 [==============================] - 0s 3ms/step - loss: 0.6022 - accuracy: 0.6868 - val_loss: 0.5831 - val_accuracy: 0.6811\n",
            "Epoch 33/150\n",
            "52/52 [==============================] - 0s 3ms/step - loss: 0.6145 - accuracy: 0.6829 - val_loss: 0.5930 - val_accuracy: 0.6732\n",
            "Epoch 34/150\n",
            "52/52 [==============================] - 0s 3ms/step - loss: 0.5815 - accuracy: 0.6926 - val_loss: 0.5853 - val_accuracy: 0.6969\n",
            "Epoch 35/150\n",
            "52/52 [==============================] - 0s 4ms/step - loss: 0.5748 - accuracy: 0.7179 - val_loss: 0.6096 - val_accuracy: 0.6575\n",
            "Epoch 36/150\n",
            "52/52 [==============================] - 0s 4ms/step - loss: 0.5858 - accuracy: 0.7237 - val_loss: 0.5798 - val_accuracy: 0.7047\n",
            "Epoch 37/150\n",
            "52/52 [==============================] - 0s 4ms/step - loss: 0.5778 - accuracy: 0.7023 - val_loss: 0.5803 - val_accuracy: 0.7205\n",
            "Epoch 38/150\n",
            "52/52 [==============================] - 0s 5ms/step - loss: 0.5833 - accuracy: 0.7043 - val_loss: 0.5826 - val_accuracy: 0.6811\n",
            "Epoch 39/150\n",
            "52/52 [==============================] - 0s 5ms/step - loss: 0.6016 - accuracy: 0.6946 - val_loss: 0.5801 - val_accuracy: 0.6929\n",
            "Epoch 40/150\n",
            "52/52 [==============================] - 0s 5ms/step - loss: 0.5728 - accuracy: 0.7198 - val_loss: 0.5820 - val_accuracy: 0.7087\n",
            "Epoch 41/150\n",
            "52/52 [==============================] - 0s 5ms/step - loss: 0.5749 - accuracy: 0.7101 - val_loss: 0.5777 - val_accuracy: 0.7126\n",
            "Epoch 42/150\n",
            "52/52 [==============================] - 0s 9ms/step - loss: 0.5688 - accuracy: 0.7160 - val_loss: 0.5812 - val_accuracy: 0.6929\n",
            "Epoch 43/150\n",
            "52/52 [==============================] - 0s 8ms/step - loss: 0.5695 - accuracy: 0.7004 - val_loss: 0.5888 - val_accuracy: 0.6929\n",
            "Epoch 44/150\n",
            "52/52 [==============================] - 0s 5ms/step - loss: 0.5764 - accuracy: 0.7237 - val_loss: 0.5796 - val_accuracy: 0.6811\n",
            "Epoch 45/150\n",
            "52/52 [==============================] - 0s 6ms/step - loss: 0.5730 - accuracy: 0.7218 - val_loss: 0.5995 - val_accuracy: 0.6772\n",
            "Epoch 46/150\n",
            "52/52 [==============================] - 0s 5ms/step - loss: 0.5673 - accuracy: 0.7082 - val_loss: 0.6045 - val_accuracy: 0.6654\n",
            "Epoch 47/150\n",
            "52/52 [==============================] - 0s 5ms/step - loss: 0.5603 - accuracy: 0.7257 - val_loss: 0.5915 - val_accuracy: 0.6850\n",
            "Epoch 48/150\n",
            "52/52 [==============================] - 0s 8ms/step - loss: 0.5662 - accuracy: 0.7237 - val_loss: 0.5772 - val_accuracy: 0.6929\n",
            "Epoch 49/150\n",
            "52/52 [==============================] - 0s 9ms/step - loss: 0.5735 - accuracy: 0.7160 - val_loss: 0.5822 - val_accuracy: 0.6890\n",
            "Epoch 50/150\n",
            "52/52 [==============================] - 0s 4ms/step - loss: 0.5854 - accuracy: 0.7121 - val_loss: 0.5759 - val_accuracy: 0.6811\n",
            "Epoch 51/150\n",
            "52/52 [==============================] - 0s 3ms/step - loss: 0.5676 - accuracy: 0.7179 - val_loss: 0.5855 - val_accuracy: 0.6614\n",
            "Epoch 52/150\n",
            "52/52 [==============================] - 0s 3ms/step - loss: 0.5567 - accuracy: 0.7354 - val_loss: 0.6099 - val_accuracy: 0.6772\n",
            "Epoch 53/150\n",
            "52/52 [==============================] - 0s 3ms/step - loss: 0.5715 - accuracy: 0.7101 - val_loss: 0.5748 - val_accuracy: 0.6890\n",
            "Epoch 54/150\n",
            "52/52 [==============================] - 0s 4ms/step - loss: 0.5879 - accuracy: 0.7082 - val_loss: 0.6282 - val_accuracy: 0.6693\n",
            "Epoch 55/150\n",
            "52/52 [==============================] - 0s 4ms/step - loss: 0.5803 - accuracy: 0.7082 - val_loss: 0.6416 - val_accuracy: 0.6614\n",
            "Epoch 56/150\n",
            "52/52 [==============================] - 0s 5ms/step - loss: 0.5647 - accuracy: 0.7160 - val_loss: 0.5882 - val_accuracy: 0.6850\n",
            "Epoch 57/150\n",
            "52/52 [==============================] - 0s 5ms/step - loss: 0.5490 - accuracy: 0.7374 - val_loss: 0.5851 - val_accuracy: 0.6732\n",
            "Epoch 58/150\n",
            "52/52 [==============================] - 0s 5ms/step - loss: 0.5566 - accuracy: 0.7257 - val_loss: 0.5785 - val_accuracy: 0.6811\n",
            "Epoch 59/150\n",
            "52/52 [==============================] - 0s 5ms/step - loss: 0.5704 - accuracy: 0.7179 - val_loss: 0.5768 - val_accuracy: 0.7047\n",
            "Epoch 60/150\n",
            "52/52 [==============================] - 0s 5ms/step - loss: 0.5595 - accuracy: 0.7374 - val_loss: 0.6038 - val_accuracy: 0.6811\n",
            "Epoch 61/150\n",
            "52/52 [==============================] - 0s 5ms/step - loss: 0.5622 - accuracy: 0.7121 - val_loss: 0.5684 - val_accuracy: 0.7244\n",
            "Epoch 62/150\n",
            "52/52 [==============================] - 0s 5ms/step - loss: 0.5454 - accuracy: 0.7374 - val_loss: 0.5963 - val_accuracy: 0.6890\n",
            "Epoch 63/150\n",
            "52/52 [==============================] - 0s 4ms/step - loss: 0.5455 - accuracy: 0.7315 - val_loss: 0.5798 - val_accuracy: 0.6969\n",
            "Epoch 64/150\n",
            "52/52 [==============================] - 0s 4ms/step - loss: 0.5526 - accuracy: 0.7140 - val_loss: 0.5815 - val_accuracy: 0.6890\n",
            "Epoch 65/150\n",
            "52/52 [==============================] - 0s 4ms/step - loss: 0.5513 - accuracy: 0.7354 - val_loss: 0.6033 - val_accuracy: 0.6850\n",
            "Epoch 66/150\n",
            "52/52 [==============================] - 0s 3ms/step - loss: 0.5488 - accuracy: 0.7257 - val_loss: 0.5818 - val_accuracy: 0.6772\n",
            "Epoch 67/150\n",
            "52/52 [==============================] - 0s 4ms/step - loss: 0.5427 - accuracy: 0.7218 - val_loss: 0.5697 - val_accuracy: 0.7126\n",
            "Epoch 68/150\n",
            "52/52 [==============================] - 0s 5ms/step - loss: 0.5555 - accuracy: 0.7354 - val_loss: 0.5710 - val_accuracy: 0.7205\n",
            "Epoch 69/150\n",
            "52/52 [==============================] - 0s 5ms/step - loss: 0.5558 - accuracy: 0.7179 - val_loss: 0.5702 - val_accuracy: 0.7244\n",
            "Epoch 70/150\n",
            "52/52 [==============================] - 0s 5ms/step - loss: 0.5631 - accuracy: 0.7160 - val_loss: 0.5734 - val_accuracy: 0.6929\n",
            "Epoch 71/150\n",
            "52/52 [==============================] - 0s 5ms/step - loss: 0.5499 - accuracy: 0.7335 - val_loss: 0.5774 - val_accuracy: 0.6811\n",
            "Epoch 72/150\n",
            "52/52 [==============================] - 0s 5ms/step - loss: 0.5525 - accuracy: 0.7140 - val_loss: 0.5713 - val_accuracy: 0.7008\n",
            "Epoch 73/150\n",
            "52/52 [==============================] - 0s 5ms/step - loss: 0.5482 - accuracy: 0.7374 - val_loss: 0.5694 - val_accuracy: 0.7047\n",
            "Epoch 74/150\n",
            "52/52 [==============================] - 0s 5ms/step - loss: 0.5367 - accuracy: 0.7412 - val_loss: 0.5804 - val_accuracy: 0.7047\n",
            "Epoch 75/150\n",
            "52/52 [==============================] - 0s 6ms/step - loss: 0.5522 - accuracy: 0.7237 - val_loss: 0.5755 - val_accuracy: 0.7087\n",
            "Epoch 76/150\n",
            "52/52 [==============================] - 0s 5ms/step - loss: 0.5390 - accuracy: 0.7393 - val_loss: 0.5892 - val_accuracy: 0.6850\n",
            "Epoch 77/150\n",
            "52/52 [==============================] - 0s 5ms/step - loss: 0.5471 - accuracy: 0.7490 - val_loss: 0.5676 - val_accuracy: 0.7283\n",
            "Epoch 78/150\n",
            "52/52 [==============================] - 1s 11ms/step - loss: 0.5390 - accuracy: 0.7257 - val_loss: 0.5736 - val_accuracy: 0.7008\n",
            "Epoch 79/150\n",
            "52/52 [==============================] - 0s 6ms/step - loss: 0.5438 - accuracy: 0.7335 - val_loss: 0.5809 - val_accuracy: 0.6772\n",
            "Epoch 80/150\n",
            "52/52 [==============================] - 0s 5ms/step - loss: 0.5414 - accuracy: 0.7588 - val_loss: 0.5763 - val_accuracy: 0.6890\n",
            "Epoch 81/150\n",
            "52/52 [==============================] - 0s 5ms/step - loss: 0.5396 - accuracy: 0.7315 - val_loss: 0.5702 - val_accuracy: 0.7283\n",
            "Epoch 82/150\n",
            "52/52 [==============================] - 0s 4ms/step - loss: 0.5381 - accuracy: 0.7412 - val_loss: 0.5840 - val_accuracy: 0.6929\n",
            "Epoch 83/150\n",
            "52/52 [==============================] - 0s 4ms/step - loss: 0.5348 - accuracy: 0.7412 - val_loss: 0.5678 - val_accuracy: 0.7244\n",
            "Epoch 84/150\n",
            "52/52 [==============================] - 0s 3ms/step - loss: 0.5345 - accuracy: 0.7510 - val_loss: 0.5997 - val_accuracy: 0.6811\n",
            "Epoch 85/150\n",
            "52/52 [==============================] - 0s 3ms/step - loss: 0.5559 - accuracy: 0.7296 - val_loss: 0.5761 - val_accuracy: 0.6929\n",
            "Epoch 86/150\n",
            "52/52 [==============================] - 0s 4ms/step - loss: 0.5399 - accuracy: 0.7451 - val_loss: 0.5675 - val_accuracy: 0.7205\n",
            "Epoch 87/150\n",
            "52/52 [==============================] - 0s 5ms/step - loss: 0.5390 - accuracy: 0.7296 - val_loss: 0.5684 - val_accuracy: 0.7165\n",
            "Epoch 88/150\n",
            "52/52 [==============================] - 0s 4ms/step - loss: 0.5399 - accuracy: 0.7412 - val_loss: 0.5795 - val_accuracy: 0.6929\n",
            "Epoch 89/150\n",
            "52/52 [==============================] - 0s 7ms/step - loss: 0.5397 - accuracy: 0.7412 - val_loss: 0.5746 - val_accuracy: 0.7126\n",
            "Epoch 90/150\n",
            "52/52 [==============================] - 0s 6ms/step - loss: 0.5362 - accuracy: 0.7471 - val_loss: 0.5742 - val_accuracy: 0.7047\n",
            "Epoch 91/150\n",
            "52/52 [==============================] - 0s 5ms/step - loss: 0.5433 - accuracy: 0.7412 - val_loss: 0.5704 - val_accuracy: 0.7087\n",
            "Epoch 92/150\n",
            "52/52 [==============================] - 0s 5ms/step - loss: 0.5312 - accuracy: 0.7510 - val_loss: 0.5743 - val_accuracy: 0.7047\n",
            "Epoch 93/150\n",
            "52/52 [==============================] - 0s 5ms/step - loss: 0.5379 - accuracy: 0.7315 - val_loss: 0.5725 - val_accuracy: 0.7047\n",
            "Epoch 94/150\n",
            "52/52 [==============================] - 0s 5ms/step - loss: 0.5420 - accuracy: 0.7296 - val_loss: 0.5815 - val_accuracy: 0.6890\n",
            "Epoch 95/150\n",
            "52/52 [==============================] - 0s 4ms/step - loss: 0.5381 - accuracy: 0.7296 - val_loss: 0.5895 - val_accuracy: 0.6929\n",
            "Epoch 96/150\n",
            "52/52 [==============================] - 0s 4ms/step - loss: 0.5376 - accuracy: 0.7490 - val_loss: 0.5805 - val_accuracy: 0.6890\n",
            "Epoch 97/150\n",
            "52/52 [==============================] - 0s 4ms/step - loss: 0.5259 - accuracy: 0.7549 - val_loss: 0.5826 - val_accuracy: 0.6969\n",
            "Epoch 98/150\n",
            "52/52 [==============================] - 0s 6ms/step - loss: 0.5338 - accuracy: 0.7393 - val_loss: 0.5807 - val_accuracy: 0.6890\n",
            "Epoch 99/150\n",
            "52/52 [==============================] - 0s 6ms/step - loss: 0.5315 - accuracy: 0.7393 - val_loss: 0.5800 - val_accuracy: 0.6850\n",
            "Epoch 100/150\n",
            "52/52 [==============================] - 0s 4ms/step - loss: 0.5418 - accuracy: 0.7354 - val_loss: 0.5710 - val_accuracy: 0.7087\n",
            "Epoch 101/150\n",
            "52/52 [==============================] - 0s 3ms/step - loss: 0.5235 - accuracy: 0.7471 - val_loss: 0.5748 - val_accuracy: 0.7047\n",
            "Epoch 102/150\n",
            "52/52 [==============================] - 0s 3ms/step - loss: 0.5336 - accuracy: 0.7490 - val_loss: 0.5709 - val_accuracy: 0.6969\n",
            "Epoch 103/150\n",
            "52/52 [==============================] - 0s 6ms/step - loss: 0.5299 - accuracy: 0.7471 - val_loss: 0.5942 - val_accuracy: 0.6772\n",
            "Epoch 104/150\n",
            "52/52 [==============================] - 0s 5ms/step - loss: 0.5314 - accuracy: 0.7218 - val_loss: 0.5914 - val_accuracy: 0.6969\n",
            "Epoch 105/150\n",
            "52/52 [==============================] - 0s 4ms/step - loss: 0.5291 - accuracy: 0.7393 - val_loss: 0.5639 - val_accuracy: 0.7205\n",
            "Epoch 106/150\n",
            "52/52 [==============================] - 0s 5ms/step - loss: 0.5243 - accuracy: 0.7471 - val_loss: 0.5689 - val_accuracy: 0.7047\n",
            "Epoch 107/150\n",
            "52/52 [==============================] - 0s 3ms/step - loss: 0.5335 - accuracy: 0.7393 - val_loss: 0.5863 - val_accuracy: 0.7087\n",
            "Epoch 108/150\n",
            "52/52 [==============================] - 0s 4ms/step - loss: 0.5389 - accuracy: 0.7296 - val_loss: 0.5649 - val_accuracy: 0.7205\n",
            "Epoch 109/150\n",
            "52/52 [==============================] - 0s 4ms/step - loss: 0.5242 - accuracy: 0.7451 - val_loss: 0.5643 - val_accuracy: 0.7126\n",
            "Epoch 110/150\n",
            "52/52 [==============================] - 0s 4ms/step - loss: 0.5344 - accuracy: 0.7432 - val_loss: 0.5790 - val_accuracy: 0.7008\n",
            "Epoch 111/150\n",
            "52/52 [==============================] - 0s 4ms/step - loss: 0.5249 - accuracy: 0.7374 - val_loss: 0.5707 - val_accuracy: 0.7205\n",
            "Epoch 112/150\n",
            "52/52 [==============================] - 0s 4ms/step - loss: 0.5341 - accuracy: 0.7588 - val_loss: 0.5703 - val_accuracy: 0.7205\n",
            "Epoch 113/150\n",
            "52/52 [==============================] - 0s 3ms/step - loss: 0.5241 - accuracy: 0.7510 - val_loss: 0.5629 - val_accuracy: 0.7205\n",
            "Epoch 114/150\n",
            "52/52 [==============================] - 0s 3ms/step - loss: 0.5248 - accuracy: 0.7490 - val_loss: 0.5796 - val_accuracy: 0.6969\n",
            "Epoch 115/150\n",
            "52/52 [==============================] - 0s 4ms/step - loss: 0.5160 - accuracy: 0.7490 - val_loss: 0.5882 - val_accuracy: 0.7087\n",
            "Epoch 116/150\n",
            "52/52 [==============================] - 0s 4ms/step - loss: 0.5272 - accuracy: 0.7549 - val_loss: 0.5753 - val_accuracy: 0.7047\n",
            "Epoch 117/150\n",
            "52/52 [==============================] - 0s 5ms/step - loss: 0.5204 - accuracy: 0.7568 - val_loss: 0.5928 - val_accuracy: 0.6850\n",
            "Epoch 118/150\n",
            "52/52 [==============================] - 0s 5ms/step - loss: 0.5265 - accuracy: 0.7471 - val_loss: 0.5752 - val_accuracy: 0.7126\n",
            "Epoch 119/150\n",
            "52/52 [==============================] - 0s 5ms/step - loss: 0.5218 - accuracy: 0.7412 - val_loss: 0.5841 - val_accuracy: 0.7087\n",
            "Epoch 120/150\n",
            "52/52 [==============================] - 0s 6ms/step - loss: 0.5180 - accuracy: 0.7471 - val_loss: 0.5654 - val_accuracy: 0.7087\n",
            "Epoch 121/150\n",
            "52/52 [==============================] - 0s 4ms/step - loss: 0.5217 - accuracy: 0.7704 - val_loss: 0.5786 - val_accuracy: 0.7087\n",
            "Epoch 122/150\n",
            "52/52 [==============================] - 0s 4ms/step - loss: 0.5294 - accuracy: 0.7510 - val_loss: 0.5872 - val_accuracy: 0.6929\n",
            "Epoch 123/150\n",
            "52/52 [==============================] - 0s 5ms/step - loss: 0.5256 - accuracy: 0.7549 - val_loss: 0.5631 - val_accuracy: 0.7362\n",
            "Epoch 124/150\n",
            "52/52 [==============================] - 0s 5ms/step - loss: 0.5158 - accuracy: 0.7451 - val_loss: 0.5769 - val_accuracy: 0.7008\n",
            "Epoch 125/150\n",
            "52/52 [==============================] - 0s 5ms/step - loss: 0.5129 - accuracy: 0.7665 - val_loss: 0.5747 - val_accuracy: 0.6929\n",
            "Epoch 126/150\n",
            "52/52 [==============================] - 0s 7ms/step - loss: 0.5315 - accuracy: 0.7451 - val_loss: 0.5888 - val_accuracy: 0.7126\n",
            "Epoch 127/150\n",
            "52/52 [==============================] - 0s 5ms/step - loss: 0.5172 - accuracy: 0.7510 - val_loss: 0.5749 - val_accuracy: 0.7008\n",
            "Epoch 128/150\n",
            "52/52 [==============================] - 0s 5ms/step - loss: 0.5148 - accuracy: 0.7529 - val_loss: 0.5713 - val_accuracy: 0.7126\n",
            "Epoch 129/150\n",
            "52/52 [==============================] - 0s 5ms/step - loss: 0.5202 - accuracy: 0.7335 - val_loss: 0.5643 - val_accuracy: 0.6969\n",
            "Epoch 130/150\n",
            "52/52 [==============================] - 0s 5ms/step - loss: 0.5193 - accuracy: 0.7549 - val_loss: 0.5648 - val_accuracy: 0.7047\n",
            "Epoch 131/150\n",
            "52/52 [==============================] - 0s 5ms/step - loss: 0.5172 - accuracy: 0.7451 - val_loss: 0.5680 - val_accuracy: 0.7008\n",
            "Epoch 132/150\n",
            "52/52 [==============================] - 0s 5ms/step - loss: 0.5172 - accuracy: 0.7490 - val_loss: 0.5821 - val_accuracy: 0.6929\n",
            "Epoch 133/150\n",
            "52/52 [==============================] - 0s 5ms/step - loss: 0.5279 - accuracy: 0.7588 - val_loss: 0.5677 - val_accuracy: 0.7165\n",
            "Epoch 134/150\n",
            "52/52 [==============================] - 0s 4ms/step - loss: 0.5283 - accuracy: 0.7529 - val_loss: 0.5670 - val_accuracy: 0.7165\n",
            "Epoch 135/150\n",
            "52/52 [==============================] - 0s 4ms/step - loss: 0.5163 - accuracy: 0.7451 - val_loss: 0.5680 - val_accuracy: 0.7283\n",
            "Epoch 136/150\n",
            "52/52 [==============================] - 0s 4ms/step - loss: 0.5167 - accuracy: 0.7451 - val_loss: 0.5598 - val_accuracy: 0.7362\n",
            "Epoch 137/150\n",
            "52/52 [==============================] - 0s 4ms/step - loss: 0.5110 - accuracy: 0.7374 - val_loss: 0.5806 - val_accuracy: 0.6929\n",
            "Epoch 138/150\n",
            "52/52 [==============================] - 0s 5ms/step - loss: 0.5137 - accuracy: 0.7490 - val_loss: 0.5907 - val_accuracy: 0.6969\n",
            "Epoch 139/150\n",
            "52/52 [==============================] - 0s 5ms/step - loss: 0.5272 - accuracy: 0.7412 - val_loss: 0.5677 - val_accuracy: 0.7362\n",
            "Epoch 140/150\n",
            "52/52 [==============================] - 0s 4ms/step - loss: 0.5153 - accuracy: 0.7568 - val_loss: 0.5738 - val_accuracy: 0.7087\n",
            "Epoch 141/150\n",
            "52/52 [==============================] - 0s 4ms/step - loss: 0.5197 - accuracy: 0.7412 - val_loss: 0.6047 - val_accuracy: 0.7047\n",
            "Epoch 142/150\n",
            "52/52 [==============================] - 0s 6ms/step - loss: 0.5080 - accuracy: 0.7588 - val_loss: 0.5616 - val_accuracy: 0.7441\n",
            "Epoch 143/150\n",
            "52/52 [==============================] - 0s 5ms/step - loss: 0.5234 - accuracy: 0.7549 - val_loss: 0.5682 - val_accuracy: 0.7126\n",
            "Epoch 144/150\n",
            "52/52 [==============================] - 0s 7ms/step - loss: 0.5115 - accuracy: 0.7568 - val_loss: 0.5827 - val_accuracy: 0.7087\n",
            "Epoch 145/150\n",
            "52/52 [==============================] - 0s 7ms/step - loss: 0.5124 - accuracy: 0.7529 - val_loss: 0.5654 - val_accuracy: 0.7283\n",
            "Epoch 146/150\n",
            "52/52 [==============================] - 0s 7ms/step - loss: 0.5065 - accuracy: 0.7471 - val_loss: 0.5732 - val_accuracy: 0.7126\n",
            "Epoch 147/150\n",
            "52/52 [==============================] - 0s 5ms/step - loss: 0.5157 - accuracy: 0.7432 - val_loss: 0.5898 - val_accuracy: 0.6969\n",
            "Epoch 148/150\n",
            "52/52 [==============================] - 0s 8ms/step - loss: 0.5126 - accuracy: 0.7412 - val_loss: 0.5693 - val_accuracy: 0.7205\n",
            "Epoch 149/150\n",
            "52/52 [==============================] - 0s 5ms/step - loss: 0.5066 - accuracy: 0.7490 - val_loss: 0.5562 - val_accuracy: 0.7283\n",
            "Epoch 150/150\n",
            "52/52 [==============================] - 0s 3ms/step - loss: 0.5061 - accuracy: 0.7451 - val_loss: 0.5625 - val_accuracy: 0.7008\n"
          ]
        },
        {
          "output_type": "execute_result",
          "data": {
            "text/plain": [
              "<keras.callbacks.History at 0x7bdb783c1990>"
            ]
          },
          "metadata": {},
          "execution_count": 16
        }
      ]
    },
    {
      "cell_type": "code",
      "source": [
        "from sklearn.model_selection import train_test_split\n",
        "X_train,X_test,Y_train,y_test=train_test_split(X,Y,test_size=0.33,random_state=seed)"
      ],
      "metadata": {
        "id": "ua8dkpPp5eCM"
      },
      "execution_count": null,
      "outputs": []
    },
    {
      "cell_type": "code",
      "source": [
        "model.fit(X_train,Y_train,validation_data=(X_test,y_test),epochs=150,batch_size=10)"
      ],
      "metadata": {
        "colab": {
          "base_uri": "https://localhost:8080/"
        },
        "id": "pfnLK5pZ7H7d",
        "outputId": "adc6d00b-112e-4f9f-b147-9aa87eedc86e"
      },
      "execution_count": null,
      "outputs": [
        {
          "output_type": "stream",
          "name": "stdout",
          "text": [
            "Epoch 1/150\n",
            "52/52 [==============================] - 0s 4ms/step - loss: 0.5142 - accuracy: 0.7471 - val_loss: 0.5839 - val_accuracy: 0.7205\n",
            "Epoch 2/150\n",
            "52/52 [==============================] - 0s 3ms/step - loss: 0.5123 - accuracy: 0.7490 - val_loss: 0.5510 - val_accuracy: 0.7283\n",
            "Epoch 3/150\n",
            "52/52 [==============================] - 0s 4ms/step - loss: 0.5076 - accuracy: 0.7471 - val_loss: 0.5474 - val_accuracy: 0.7323\n",
            "Epoch 4/150\n",
            "52/52 [==============================] - 0s 3ms/step - loss: 0.5110 - accuracy: 0.7354 - val_loss: 0.5474 - val_accuracy: 0.7402\n",
            "Epoch 5/150\n",
            "52/52 [==============================] - 0s 4ms/step - loss: 0.5080 - accuracy: 0.7549 - val_loss: 0.5663 - val_accuracy: 0.7244\n",
            "Epoch 6/150\n",
            "52/52 [==============================] - 0s 3ms/step - loss: 0.5013 - accuracy: 0.7374 - val_loss: 0.5530 - val_accuracy: 0.7402\n",
            "Epoch 7/150\n",
            "52/52 [==============================] - 0s 4ms/step - loss: 0.5081 - accuracy: 0.7412 - val_loss: 0.5438 - val_accuracy: 0.7441\n",
            "Epoch 8/150\n",
            "52/52 [==============================] - 0s 3ms/step - loss: 0.5040 - accuracy: 0.7471 - val_loss: 0.5440 - val_accuracy: 0.7402\n",
            "Epoch 9/150\n",
            "52/52 [==============================] - 0s 4ms/step - loss: 0.4990 - accuracy: 0.7510 - val_loss: 0.5458 - val_accuracy: 0.7283\n",
            "Epoch 10/150\n",
            "52/52 [==============================] - 0s 3ms/step - loss: 0.5013 - accuracy: 0.7490 - val_loss: 0.5410 - val_accuracy: 0.7520\n",
            "Epoch 11/150\n",
            "52/52 [==============================] - 0s 4ms/step - loss: 0.4995 - accuracy: 0.7490 - val_loss: 0.5390 - val_accuracy: 0.7441\n",
            "Epoch 12/150\n",
            "52/52 [==============================] - 0s 5ms/step - loss: 0.5026 - accuracy: 0.7490 - val_loss: 0.5445 - val_accuracy: 0.7283\n",
            "Epoch 13/150\n",
            "52/52 [==============================] - 0s 5ms/step - loss: 0.4936 - accuracy: 0.7510 - val_loss: 0.5389 - val_accuracy: 0.7402\n",
            "Epoch 14/150\n",
            "52/52 [==============================] - 0s 5ms/step - loss: 0.5061 - accuracy: 0.7451 - val_loss: 0.5458 - val_accuracy: 0.7323\n",
            "Epoch 15/150\n",
            "52/52 [==============================] - 0s 4ms/step - loss: 0.5126 - accuracy: 0.7568 - val_loss: 0.5358 - val_accuracy: 0.7362\n",
            "Epoch 16/150\n",
            "52/52 [==============================] - 0s 4ms/step - loss: 0.4964 - accuracy: 0.7549 - val_loss: 0.5380 - val_accuracy: 0.7362\n",
            "Epoch 17/150\n",
            "52/52 [==============================] - 0s 4ms/step - loss: 0.4942 - accuracy: 0.7588 - val_loss: 0.5518 - val_accuracy: 0.7205\n",
            "Epoch 18/150\n",
            "52/52 [==============================] - 0s 4ms/step - loss: 0.5202 - accuracy: 0.7198 - val_loss: 0.5440 - val_accuracy: 0.7362\n",
            "Epoch 19/150\n",
            "52/52 [==============================] - 0s 3ms/step - loss: 0.4962 - accuracy: 0.7432 - val_loss: 0.5410 - val_accuracy: 0.7362\n",
            "Epoch 20/150\n",
            "52/52 [==============================] - 0s 3ms/step - loss: 0.4939 - accuracy: 0.7529 - val_loss: 0.5406 - val_accuracy: 0.7441\n",
            "Epoch 21/150\n",
            "52/52 [==============================] - 0s 4ms/step - loss: 0.4891 - accuracy: 0.7626 - val_loss: 0.5474 - val_accuracy: 0.7323\n",
            "Epoch 22/150\n",
            "52/52 [==============================] - 0s 4ms/step - loss: 0.4881 - accuracy: 0.7665 - val_loss: 0.5522 - val_accuracy: 0.7441\n",
            "Epoch 23/150\n",
            "52/52 [==============================] - 0s 4ms/step - loss: 0.4996 - accuracy: 0.7510 - val_loss: 0.5520 - val_accuracy: 0.7283\n",
            "Epoch 24/150\n",
            "52/52 [==============================] - 0s 4ms/step - loss: 0.4962 - accuracy: 0.7529 - val_loss: 0.5413 - val_accuracy: 0.7441\n",
            "Epoch 25/150\n",
            "52/52 [==============================] - 0s 4ms/step - loss: 0.4892 - accuracy: 0.7626 - val_loss: 0.5334 - val_accuracy: 0.7283\n",
            "Epoch 26/150\n",
            "52/52 [==============================] - 0s 5ms/step - loss: 0.4949 - accuracy: 0.7549 - val_loss: 0.5379 - val_accuracy: 0.7520\n",
            "Epoch 27/150\n",
            "52/52 [==============================] - 0s 5ms/step - loss: 0.4956 - accuracy: 0.7432 - val_loss: 0.5357 - val_accuracy: 0.7205\n",
            "Epoch 28/150\n",
            "52/52 [==============================] - 0s 5ms/step - loss: 0.4953 - accuracy: 0.7490 - val_loss: 0.5411 - val_accuracy: 0.7441\n",
            "Epoch 29/150\n",
            "52/52 [==============================] - 0s 4ms/step - loss: 0.4963 - accuracy: 0.7588 - val_loss: 0.5375 - val_accuracy: 0.7244\n",
            "Epoch 30/150\n",
            "52/52 [==============================] - 0s 5ms/step - loss: 0.4968 - accuracy: 0.7432 - val_loss: 0.5382 - val_accuracy: 0.7402\n",
            "Epoch 31/150\n",
            "52/52 [==============================] - 0s 5ms/step - loss: 0.4907 - accuracy: 0.7626 - val_loss: 0.5404 - val_accuracy: 0.7402\n",
            "Epoch 32/150\n",
            "52/52 [==============================] - 0s 5ms/step - loss: 0.4905 - accuracy: 0.7626 - val_loss: 0.5470 - val_accuracy: 0.7283\n",
            "Epoch 33/150\n",
            "52/52 [==============================] - 0s 5ms/step - loss: 0.4962 - accuracy: 0.7451 - val_loss: 0.5345 - val_accuracy: 0.7205\n",
            "Epoch 34/150\n",
            "52/52 [==============================] - 0s 4ms/step - loss: 0.4867 - accuracy: 0.7704 - val_loss: 0.5356 - val_accuracy: 0.7480\n",
            "Epoch 35/150\n",
            "52/52 [==============================] - 0s 4ms/step - loss: 0.4845 - accuracy: 0.7626 - val_loss: 0.5682 - val_accuracy: 0.7283\n",
            "Epoch 36/150\n",
            "52/52 [==============================] - 0s 4ms/step - loss: 0.4918 - accuracy: 0.7490 - val_loss: 0.5443 - val_accuracy: 0.7362\n",
            "Epoch 37/150\n",
            "52/52 [==============================] - 0s 5ms/step - loss: 0.4869 - accuracy: 0.7704 - val_loss: 0.5324 - val_accuracy: 0.7441\n",
            "Epoch 38/150\n",
            "52/52 [==============================] - 0s 5ms/step - loss: 0.4909 - accuracy: 0.7607 - val_loss: 0.5371 - val_accuracy: 0.7402\n",
            "Epoch 39/150\n",
            "52/52 [==============================] - 0s 5ms/step - loss: 0.4878 - accuracy: 0.7704 - val_loss: 0.5373 - val_accuracy: 0.7480\n",
            "Epoch 40/150\n",
            "52/52 [==============================] - 0s 5ms/step - loss: 0.4897 - accuracy: 0.7646 - val_loss: 0.5678 - val_accuracy: 0.7244\n",
            "Epoch 41/150\n",
            "52/52 [==============================] - 0s 5ms/step - loss: 0.4950 - accuracy: 0.7568 - val_loss: 0.5447 - val_accuracy: 0.7362\n",
            "Epoch 42/150\n",
            "52/52 [==============================] - 0s 5ms/step - loss: 0.4820 - accuracy: 0.7743 - val_loss: 0.5365 - val_accuracy: 0.7480\n",
            "Epoch 43/150\n",
            "52/52 [==============================] - 0s 6ms/step - loss: 0.4800 - accuracy: 0.7626 - val_loss: 0.5443 - val_accuracy: 0.7283\n",
            "Epoch 44/150\n",
            "52/52 [==============================] - 0s 5ms/step - loss: 0.4727 - accuracy: 0.7763 - val_loss: 0.5522 - val_accuracy: 0.7480\n",
            "Epoch 45/150\n",
            "52/52 [==============================] - 0s 6ms/step - loss: 0.4841 - accuracy: 0.7665 - val_loss: 0.5437 - val_accuracy: 0.7283\n",
            "Epoch 46/150\n",
            "52/52 [==============================] - 0s 4ms/step - loss: 0.4919 - accuracy: 0.7626 - val_loss: 0.5369 - val_accuracy: 0.7480\n",
            "Epoch 47/150\n",
            "52/52 [==============================] - 0s 4ms/step - loss: 0.4830 - accuracy: 0.7685 - val_loss: 0.5336 - val_accuracy: 0.7441\n",
            "Epoch 48/150\n",
            "52/52 [==============================] - 0s 3ms/step - loss: 0.4792 - accuracy: 0.7471 - val_loss: 0.5599 - val_accuracy: 0.7362\n",
            "Epoch 49/150\n",
            "52/52 [==============================] - 0s 4ms/step - loss: 0.4875 - accuracy: 0.7471 - val_loss: 0.5351 - val_accuracy: 0.7402\n",
            "Epoch 50/150\n",
            "52/52 [==============================] - 0s 3ms/step - loss: 0.4810 - accuracy: 0.7665 - val_loss: 0.5353 - val_accuracy: 0.7441\n",
            "Epoch 51/150\n",
            "52/52 [==============================] - 0s 4ms/step - loss: 0.4883 - accuracy: 0.7588 - val_loss: 0.5322 - val_accuracy: 0.7441\n",
            "Epoch 52/150\n",
            "52/52 [==============================] - 0s 4ms/step - loss: 0.4793 - accuracy: 0.7665 - val_loss: 0.5358 - val_accuracy: 0.7480\n",
            "Epoch 53/150\n",
            "52/52 [==============================] - 0s 4ms/step - loss: 0.4782 - accuracy: 0.7626 - val_loss: 0.5596 - val_accuracy: 0.7126\n",
            "Epoch 54/150\n",
            "52/52 [==============================] - 0s 3ms/step - loss: 0.4858 - accuracy: 0.7704 - val_loss: 0.5350 - val_accuracy: 0.7362\n",
            "Epoch 55/150\n",
            "52/52 [==============================] - 0s 3ms/step - loss: 0.4750 - accuracy: 0.7704 - val_loss: 0.5371 - val_accuracy: 0.7520\n",
            "Epoch 56/150\n",
            "52/52 [==============================] - 0s 4ms/step - loss: 0.4861 - accuracy: 0.7665 - val_loss: 0.5318 - val_accuracy: 0.7244\n",
            "Epoch 57/150\n",
            "52/52 [==============================] - 0s 4ms/step - loss: 0.4782 - accuracy: 0.7685 - val_loss: 0.5334 - val_accuracy: 0.7362\n",
            "Epoch 58/150\n",
            "52/52 [==============================] - 0s 4ms/step - loss: 0.4805 - accuracy: 0.7704 - val_loss: 0.5357 - val_accuracy: 0.7402\n",
            "Epoch 59/150\n",
            "52/52 [==============================] - 0s 4ms/step - loss: 0.4860 - accuracy: 0.7607 - val_loss: 0.5342 - val_accuracy: 0.7402\n",
            "Epoch 60/150\n",
            "52/52 [==============================] - 0s 4ms/step - loss: 0.4906 - accuracy: 0.7626 - val_loss: 0.5630 - val_accuracy: 0.7441\n",
            "Epoch 61/150\n",
            "52/52 [==============================] - 0s 6ms/step - loss: 0.4813 - accuracy: 0.7607 - val_loss: 0.5349 - val_accuracy: 0.7441\n",
            "Epoch 62/150\n",
            "52/52 [==============================] - 0s 6ms/step - loss: 0.4728 - accuracy: 0.7724 - val_loss: 0.5346 - val_accuracy: 0.7480\n",
            "Epoch 63/150\n",
            "52/52 [==============================] - 0s 5ms/step - loss: 0.4715 - accuracy: 0.7743 - val_loss: 0.5337 - val_accuracy: 0.7362\n",
            "Epoch 64/150\n",
            "52/52 [==============================] - 0s 5ms/step - loss: 0.4799 - accuracy: 0.7626 - val_loss: 0.5431 - val_accuracy: 0.7362\n",
            "Epoch 65/150\n",
            "52/52 [==============================] - 0s 4ms/step - loss: 0.4738 - accuracy: 0.7704 - val_loss: 0.5350 - val_accuracy: 0.7362\n",
            "Epoch 66/150\n",
            "52/52 [==============================] - 0s 4ms/step - loss: 0.4862 - accuracy: 0.7704 - val_loss: 0.5451 - val_accuracy: 0.7559\n",
            "Epoch 67/150\n",
            "52/52 [==============================] - 0s 4ms/step - loss: 0.4736 - accuracy: 0.7782 - val_loss: 0.5408 - val_accuracy: 0.7441\n",
            "Epoch 68/150\n",
            "52/52 [==============================] - 0s 4ms/step - loss: 0.4859 - accuracy: 0.7646 - val_loss: 0.5393 - val_accuracy: 0.7402\n",
            "Epoch 69/150\n",
            "52/52 [==============================] - 0s 4ms/step - loss: 0.4808 - accuracy: 0.7743 - val_loss: 0.5324 - val_accuracy: 0.7362\n",
            "Epoch 70/150\n",
            "52/52 [==============================] - 0s 4ms/step - loss: 0.4792 - accuracy: 0.7568 - val_loss: 0.5410 - val_accuracy: 0.7283\n",
            "Epoch 71/150\n",
            "52/52 [==============================] - 0s 3ms/step - loss: 0.4707 - accuracy: 0.7646 - val_loss: 0.5382 - val_accuracy: 0.7323\n",
            "Epoch 72/150\n",
            "52/52 [==============================] - 0s 4ms/step - loss: 0.4716 - accuracy: 0.7626 - val_loss: 0.5417 - val_accuracy: 0.7323\n",
            "Epoch 73/150\n",
            "52/52 [==============================] - 0s 4ms/step - loss: 0.4740 - accuracy: 0.7743 - val_loss: 0.5514 - val_accuracy: 0.7283\n",
            "Epoch 74/150\n",
            "52/52 [==============================] - 0s 5ms/step - loss: 0.4717 - accuracy: 0.7782 - val_loss: 0.5327 - val_accuracy: 0.7323\n",
            "Epoch 75/150\n",
            "52/52 [==============================] - 0s 5ms/step - loss: 0.4702 - accuracy: 0.7646 - val_loss: 0.5378 - val_accuracy: 0.7323\n",
            "Epoch 76/150\n",
            "52/52 [==============================] - 0s 4ms/step - loss: 0.4637 - accuracy: 0.7743 - val_loss: 0.5406 - val_accuracy: 0.7441\n",
            "Epoch 77/150\n",
            "52/52 [==============================] - 0s 4ms/step - loss: 0.4666 - accuracy: 0.7704 - val_loss: 0.5344 - val_accuracy: 0.7402\n",
            "Epoch 78/150\n",
            "52/52 [==============================] - 0s 4ms/step - loss: 0.4814 - accuracy: 0.7626 - val_loss: 0.5404 - val_accuracy: 0.7244\n",
            "Epoch 79/150\n",
            "52/52 [==============================] - 0s 4ms/step - loss: 0.4643 - accuracy: 0.7724 - val_loss: 0.5433 - val_accuracy: 0.7362\n",
            "Epoch 80/150\n",
            "52/52 [==============================] - 0s 3ms/step - loss: 0.4679 - accuracy: 0.7626 - val_loss: 0.5361 - val_accuracy: 0.7559\n",
            "Epoch 81/150\n",
            "52/52 [==============================] - 0s 4ms/step - loss: 0.4731 - accuracy: 0.7802 - val_loss: 0.5469 - val_accuracy: 0.7362\n",
            "Epoch 82/150\n",
            "52/52 [==============================] - 0s 4ms/step - loss: 0.4789 - accuracy: 0.7626 - val_loss: 0.5415 - val_accuracy: 0.7480\n",
            "Epoch 83/150\n",
            "52/52 [==============================] - 0s 4ms/step - loss: 0.4635 - accuracy: 0.7724 - val_loss: 0.5752 - val_accuracy: 0.7402\n",
            "Epoch 84/150\n",
            "52/52 [==============================] - 0s 3ms/step - loss: 0.4727 - accuracy: 0.7626 - val_loss: 0.5399 - val_accuracy: 0.7323\n",
            "Epoch 85/150\n",
            "52/52 [==============================] - 0s 3ms/step - loss: 0.4574 - accuracy: 0.7860 - val_loss: 0.5596 - val_accuracy: 0.7520\n",
            "Epoch 86/150\n",
            "52/52 [==============================] - 0s 4ms/step - loss: 0.4662 - accuracy: 0.7626 - val_loss: 0.5649 - val_accuracy: 0.7087\n",
            "Epoch 87/150\n",
            "52/52 [==============================] - 0s 4ms/step - loss: 0.4665 - accuracy: 0.7607 - val_loss: 0.5795 - val_accuracy: 0.7402\n",
            "Epoch 88/150\n",
            "52/52 [==============================] - 0s 4ms/step - loss: 0.4617 - accuracy: 0.7646 - val_loss: 0.5512 - val_accuracy: 0.7323\n",
            "Epoch 89/150\n",
            "52/52 [==============================] - 0s 5ms/step - loss: 0.4706 - accuracy: 0.7646 - val_loss: 0.5437 - val_accuracy: 0.7323\n",
            "Epoch 90/150\n",
            "52/52 [==============================] - 0s 5ms/step - loss: 0.4689 - accuracy: 0.7451 - val_loss: 0.5745 - val_accuracy: 0.7244\n",
            "Epoch 91/150\n",
            "52/52 [==============================] - 0s 5ms/step - loss: 0.4615 - accuracy: 0.7821 - val_loss: 0.5542 - val_accuracy: 0.7283\n",
            "Epoch 92/150\n",
            "52/52 [==============================] - 0s 8ms/step - loss: 0.4614 - accuracy: 0.7665 - val_loss: 0.5507 - val_accuracy: 0.7244\n",
            "Epoch 93/150\n",
            "52/52 [==============================] - 0s 7ms/step - loss: 0.4614 - accuracy: 0.7665 - val_loss: 0.5326 - val_accuracy: 0.7323\n",
            "Epoch 94/150\n",
            "52/52 [==============================] - 0s 8ms/step - loss: 0.4627 - accuracy: 0.7763 - val_loss: 0.5546 - val_accuracy: 0.7520\n",
            "Epoch 95/150\n",
            "52/52 [==============================] - 0s 6ms/step - loss: 0.4554 - accuracy: 0.7840 - val_loss: 0.5774 - val_accuracy: 0.7362\n",
            "Epoch 96/150\n",
            "52/52 [==============================] - 0s 6ms/step - loss: 0.4783 - accuracy: 0.7782 - val_loss: 0.5626 - val_accuracy: 0.7244\n",
            "Epoch 97/150\n",
            "52/52 [==============================] - 0s 7ms/step - loss: 0.4685 - accuracy: 0.7743 - val_loss: 0.5409 - val_accuracy: 0.7323\n",
            "Epoch 98/150\n",
            "52/52 [==============================] - 0s 9ms/step - loss: 0.4675 - accuracy: 0.7665 - val_loss: 0.5552 - val_accuracy: 0.7362\n",
            "Epoch 99/150\n",
            "52/52 [==============================] - 0s 6ms/step - loss: 0.4571 - accuracy: 0.7821 - val_loss: 0.5509 - val_accuracy: 0.7244\n",
            "Epoch 100/150\n",
            "52/52 [==============================] - 0s 5ms/step - loss: 0.4753 - accuracy: 0.7704 - val_loss: 0.5502 - val_accuracy: 0.7323\n",
            "Epoch 101/150\n",
            "52/52 [==============================] - 0s 4ms/step - loss: 0.4540 - accuracy: 0.7763 - val_loss: 0.5427 - val_accuracy: 0.7323\n",
            "Epoch 102/150\n",
            "52/52 [==============================] - 0s 4ms/step - loss: 0.4550 - accuracy: 0.7743 - val_loss: 0.5675 - val_accuracy: 0.7402\n",
            "Epoch 103/150\n",
            "52/52 [==============================] - 0s 4ms/step - loss: 0.4665 - accuracy: 0.7724 - val_loss: 0.5591 - val_accuracy: 0.7323\n",
            "Epoch 104/150\n",
            "52/52 [==============================] - 0s 4ms/step - loss: 0.4557 - accuracy: 0.7782 - val_loss: 0.5632 - val_accuracy: 0.7323\n",
            "Epoch 105/150\n",
            "52/52 [==============================] - 0s 5ms/step - loss: 0.4616 - accuracy: 0.7704 - val_loss: 0.5547 - val_accuracy: 0.7441\n",
            "Epoch 106/150\n",
            "52/52 [==============================] - 0s 5ms/step - loss: 0.4514 - accuracy: 0.7763 - val_loss: 0.5874 - val_accuracy: 0.7087\n",
            "Epoch 107/150\n",
            "52/52 [==============================] - 0s 5ms/step - loss: 0.4630 - accuracy: 0.7607 - val_loss: 0.5444 - val_accuracy: 0.7402\n",
            "Epoch 108/150\n",
            "52/52 [==============================] - 0s 5ms/step - loss: 0.4590 - accuracy: 0.7724 - val_loss: 0.5479 - val_accuracy: 0.7362\n",
            "Epoch 109/150\n",
            "52/52 [==============================] - 0s 4ms/step - loss: 0.4481 - accuracy: 0.7840 - val_loss: 0.5616 - val_accuracy: 0.7283\n",
            "Epoch 110/150\n",
            "52/52 [==============================] - 0s 4ms/step - loss: 0.4554 - accuracy: 0.7685 - val_loss: 0.5754 - val_accuracy: 0.7165\n",
            "Epoch 111/150\n",
            "52/52 [==============================] - 0s 3ms/step - loss: 0.4526 - accuracy: 0.7704 - val_loss: 0.5616 - val_accuracy: 0.7323\n",
            "Epoch 112/150\n",
            "52/52 [==============================] - 0s 4ms/step - loss: 0.4487 - accuracy: 0.7724 - val_loss: 0.5534 - val_accuracy: 0.7402\n",
            "Epoch 113/150\n",
            "52/52 [==============================] - 0s 4ms/step - loss: 0.4477 - accuracy: 0.7860 - val_loss: 0.5514 - val_accuracy: 0.7205\n",
            "Epoch 114/150\n",
            "52/52 [==============================] - 0s 3ms/step - loss: 0.4511 - accuracy: 0.7782 - val_loss: 0.5797 - val_accuracy: 0.7480\n",
            "Epoch 115/150\n",
            "52/52 [==============================] - 0s 4ms/step - loss: 0.4474 - accuracy: 0.7782 - val_loss: 0.5558 - val_accuracy: 0.7165\n",
            "Epoch 116/150\n",
            "52/52 [==============================] - 0s 4ms/step - loss: 0.4461 - accuracy: 0.7879 - val_loss: 0.5617 - val_accuracy: 0.7283\n",
            "Epoch 117/150\n",
            "52/52 [==============================] - 0s 3ms/step - loss: 0.4548 - accuracy: 0.7879 - val_loss: 0.5832 - val_accuracy: 0.7047\n",
            "Epoch 118/150\n",
            "52/52 [==============================] - 0s 3ms/step - loss: 0.4532 - accuracy: 0.7840 - val_loss: 0.5682 - val_accuracy: 0.7165\n",
            "Epoch 119/150\n",
            "52/52 [==============================] - 0s 4ms/step - loss: 0.4502 - accuracy: 0.7743 - val_loss: 0.5683 - val_accuracy: 0.7165\n",
            "Epoch 120/150\n",
            "52/52 [==============================] - 0s 3ms/step - loss: 0.4410 - accuracy: 0.7918 - val_loss: 0.5689 - val_accuracy: 0.7165\n",
            "Epoch 121/150\n",
            "52/52 [==============================] - 0s 4ms/step - loss: 0.4475 - accuracy: 0.7821 - val_loss: 0.5857 - val_accuracy: 0.7362\n",
            "Epoch 122/150\n",
            "52/52 [==============================] - 0s 4ms/step - loss: 0.4521 - accuracy: 0.7802 - val_loss: 0.5755 - val_accuracy: 0.7323\n",
            "Epoch 123/150\n",
            "52/52 [==============================] - 0s 4ms/step - loss: 0.4523 - accuracy: 0.7763 - val_loss: 0.5577 - val_accuracy: 0.7047\n",
            "Epoch 124/150\n",
            "52/52 [==============================] - 0s 4ms/step - loss: 0.4612 - accuracy: 0.7665 - val_loss: 0.5914 - val_accuracy: 0.7087\n",
            "Epoch 125/150\n",
            "52/52 [==============================] - 0s 4ms/step - loss: 0.4535 - accuracy: 0.7860 - val_loss: 0.5623 - val_accuracy: 0.7244\n",
            "Epoch 126/150\n",
            "52/52 [==============================] - 0s 4ms/step - loss: 0.4503 - accuracy: 0.7782 - val_loss: 0.5706 - val_accuracy: 0.7205\n",
            "Epoch 127/150\n",
            "52/52 [==============================] - 0s 4ms/step - loss: 0.4451 - accuracy: 0.7840 - val_loss: 0.5738 - val_accuracy: 0.7165\n",
            "Epoch 128/150\n",
            "52/52 [==============================] - 0s 4ms/step - loss: 0.4406 - accuracy: 0.7938 - val_loss: 0.5744 - val_accuracy: 0.7244\n",
            "Epoch 129/150\n",
            "52/52 [==============================] - 0s 5ms/step - loss: 0.4596 - accuracy: 0.7568 - val_loss: 0.5439 - val_accuracy: 0.7441\n",
            "Epoch 130/150\n",
            "52/52 [==============================] - 0s 7ms/step - loss: 0.4446 - accuracy: 0.7957 - val_loss: 0.5565 - val_accuracy: 0.7323\n",
            "Epoch 131/150\n",
            "52/52 [==============================] - 0s 5ms/step - loss: 0.4454 - accuracy: 0.7724 - val_loss: 0.5643 - val_accuracy: 0.7323\n",
            "Epoch 132/150\n",
            "52/52 [==============================] - 0s 5ms/step - loss: 0.4506 - accuracy: 0.7704 - val_loss: 0.5722 - val_accuracy: 0.7205\n",
            "Epoch 133/150\n",
            "52/52 [==============================] - 0s 5ms/step - loss: 0.4367 - accuracy: 0.7957 - val_loss: 0.6217 - val_accuracy: 0.7165\n",
            "Epoch 134/150\n",
            "52/52 [==============================] - 0s 5ms/step - loss: 0.4508 - accuracy: 0.7879 - val_loss: 0.5570 - val_accuracy: 0.7047\n",
            "Epoch 135/150\n",
            "52/52 [==============================] - 0s 5ms/step - loss: 0.4536 - accuracy: 0.7802 - val_loss: 0.5362 - val_accuracy: 0.7244\n",
            "Epoch 136/150\n",
            "52/52 [==============================] - 0s 4ms/step - loss: 0.4397 - accuracy: 0.7918 - val_loss: 0.5721 - val_accuracy: 0.7244\n",
            "Epoch 137/150\n",
            "52/52 [==============================] - 0s 7ms/step - loss: 0.4427 - accuracy: 0.7957 - val_loss: 0.5519 - val_accuracy: 0.7323\n",
            "Epoch 138/150\n",
            "52/52 [==============================] - 0s 5ms/step - loss: 0.4329 - accuracy: 0.7996 - val_loss: 0.6222 - val_accuracy: 0.7047\n",
            "Epoch 139/150\n",
            "52/52 [==============================] - 0s 5ms/step - loss: 0.4444 - accuracy: 0.7802 - val_loss: 0.5789 - val_accuracy: 0.7480\n",
            "Epoch 140/150\n",
            "52/52 [==============================] - 0s 8ms/step - loss: 0.4452 - accuracy: 0.7685 - val_loss: 0.5672 - val_accuracy: 0.7205\n",
            "Epoch 141/150\n",
            "52/52 [==============================] - 0s 8ms/step - loss: 0.4402 - accuracy: 0.7957 - val_loss: 0.5628 - val_accuracy: 0.7362\n",
            "Epoch 142/150\n",
            "52/52 [==============================] - 0s 8ms/step - loss: 0.4600 - accuracy: 0.7782 - val_loss: 0.5594 - val_accuracy: 0.7402\n",
            "Epoch 143/150\n",
            "52/52 [==============================] - 1s 10ms/step - loss: 0.4375 - accuracy: 0.7879 - val_loss: 0.5640 - val_accuracy: 0.7362\n",
            "Epoch 144/150\n",
            "52/52 [==============================] - 0s 9ms/step - loss: 0.4350 - accuracy: 0.8035 - val_loss: 0.5640 - val_accuracy: 0.7205\n",
            "Epoch 145/150\n",
            "52/52 [==============================] - 1s 10ms/step - loss: 0.4385 - accuracy: 0.7743 - val_loss: 0.5676 - val_accuracy: 0.7362\n",
            "Epoch 146/150\n",
            "52/52 [==============================] - 0s 7ms/step - loss: 0.4455 - accuracy: 0.7802 - val_loss: 0.5722 - val_accuracy: 0.7441\n",
            "Epoch 147/150\n",
            "52/52 [==============================] - 0s 5ms/step - loss: 0.4437 - accuracy: 0.7899 - val_loss: 0.5606 - val_accuracy: 0.7362\n",
            "Epoch 148/150\n",
            "52/52 [==============================] - 0s 7ms/step - loss: 0.4398 - accuracy: 0.7938 - val_loss: 0.5796 - val_accuracy: 0.7165\n",
            "Epoch 149/150\n",
            "52/52 [==============================] - 0s 5ms/step - loss: 0.4407 - accuracy: 0.7977 - val_loss: 0.5469 - val_accuracy: 0.7323\n",
            "Epoch 150/150\n",
            "52/52 [==============================] - 0s 5ms/step - loss: 0.4399 - accuracy: 0.7840 - val_loss: 0.5556 - val_accuracy: 0.7480\n"
          ]
        },
        {
          "output_type": "execute_result",
          "data": {
            "text/plain": [
              "<keras.callbacks.History at 0x7bdb66b7cf10>"
            ]
          },
          "metadata": {},
          "execution_count": 21
        }
      ]
    },
    {
      "cell_type": "code",
      "source": [
        "from sklearn.model_selection import StratifiedKFold"
      ],
      "metadata": {
        "id": "IFDyeZrX8aDr"
      },
      "execution_count": null,
      "outputs": []
    },
    {
      "cell_type": "code",
      "source": [
        "kfold=StratifiedKFold(n_splits=10,shuffle=True,random_state=seed)"
      ],
      "metadata": {
        "id": "dUHh2cKV82G7"
      },
      "execution_count": null,
      "outputs": []
    },
    {
      "cell_type": "code",
      "source": [
        "for train,test in kfold.split(X,Y):\n",
        "  print(test)"
      ],
      "metadata": {
        "colab": {
          "base_uri": "https://localhost:8080/"
        },
        "id": "DbBfuQwp9QcN",
        "outputId": "79757d53-98f3-47c2-8329-3fe426bba07a"
      },
      "execution_count": null,
      "outputs": [
        {
          "output_type": "stream",
          "name": "stdout",
          "text": [
            "[  3   4  18  25  30  63  64  66  82 124 178 181 185 192 202 212 219 221\n",
            " 227 237 257 268 287 294 307 334 335 346 347 359 360 364 365 372 373 377\n",
            " 384 387 410 412 421 423 428 445 447 454 479 485 493 504 505 508 510 512\n",
            " 526 536 551 566 573 599 611 647 654 664 665 668 679 687 709 710 712 719\n",
            " 737 744 750 759 765]\n",
            "[  9  24  29  47  54  58  59 107 117 139 140 150 152 153 168 191 195 197\n",
            " 200 203 215 224 242 243 252 259 270 274 292 299 300 305 309 313 331 350\n",
            " 356 368 376 381 396 403 406 416 417 425 429 439 444 462 467 470 473 482\n",
            " 498 533 543 545 553 557 560 571 585 587 606 613 624 627 666 678 700 703\n",
            " 706 713 714 725 748]\n",
            "[ 16  17  28  50  51  55  68  72  77  94 100 110 113 120 132 149 155 163\n",
            " 164 204 222 261 263 271 276 278 281 285 286 293 297 311 315 333 341 343\n",
            " 348 380 386 408 424 433 440 453 468 471 472 489 490 499 509 520 524 541\n",
            " 550 555 591 593 603 607 614 615 626 643 656 696 701 704 715 716 723 736\n",
            " 739 747 749 752 757]\n",
            "[  1  12  19  21  41  43  45  53  85 111 116 123 126 127 130 137 143 146\n",
            " 157 162 171 183 186 207 208 210 236 238 254 280 291 316 322 323 330 340\n",
            " 349 370 374 392 393 452 457 474 477 480 486 488 497 500 501 511 552 554\n",
            " 558 562 572 588 594 597 616 618 620 622 630 650 652 655 662 671 674 680\n",
            " 690 698 733 754 756]\n",
            "[  2   6  27  38  65  71  75  89  90  92  99 108 114 118 121 128 131 151\n",
            " 158 161 177 180 199 211 214 218 229 244 246 248 255 260 275 301 302 318\n",
            " 321 326 329 353 366 371 375 395 400 413 415 441 448 455 460 461 466 481\n",
            " 483 506 522 535 538 580 600 608 610 617 629 637 638 653 669 685 689 694\n",
            " 721 724 727 731 738]\n",
            "[  0   7  20  35  44  49  52  56  60  67  70  88 101 106 109 115 125 133\n",
            " 144 170 172 174 182 187 189 205 206 226 232 272 273 284 288 324 342 354\n",
            " 357 401 404 405 409 411 414 437 443 450 451 459 487 515 519 532 534 565\n",
            " 577 581 589 590 595 605 621 632 635 641 642 645 651 658 663 682 695 697\n",
            " 730 758 762 763 767]\n",
            "[  5  10  11  13  57  61  69  73  84  97 105 112 129 135 142 145 148 166\n",
            " 213 225 239 264 265 269 282 290 296 304 310 317 337 338 352 363 369 378\n",
            " 382 385 402 420 426 430 458 494 513 516 517 521 528 529 530 531 544 556\n",
            " 568 583 586 596 601 634 639 649 657 660 684 686 691 693 708 717 722 732\n",
            " 735 743 753 764 766]\n",
            "[ 15  22  32  33  37  46  48  86  87  93  98 141 159 160 173 176 196 217\n",
            " 228 234 240 251 253 256 258 262 267 298 314 319 325 327 362 388 391 394\n",
            " 399 407 418 419 427 435 446 449 456 463 475 495 496 503 527 546 548 549\n",
            " 561 563 567 578 592 602 623 631 636 661 667 670 673 675 681 683 688 702\n",
            " 707 718 741 755 761]\n",
            "[  8  14  23  26  31  34  36  39  40  42  74  79  81  83  95  96 102 103\n",
            " 119 147 154 184 188 190 216 223 231 241 245 266 289 295 306 312 339 344\n",
            " 361 367 379 390 434 436 476 484 491 492 502 507 514 523 539 547 559 564\n",
            " 569 574 575 582 604 609 633 644 646 672 676 677 699 711 726 728 729 740\n",
            " 745 746 751 760]\n",
            "[ 62  76  78  80  91 104 122 134 136 138 156 165 167 169 175 179 193 194\n",
            " 198 201 209 220 230 233 235 247 249 250 277 279 283 303 308 320 328 332\n",
            " 336 345 351 355 358 383 389 397 398 422 431 432 438 442 464 465 469 478\n",
            " 518 525 537 540 542 570 576 579 584 598 612 619 625 628 640 648 659 692\n",
            " 705 720 734 742]\n"
          ]
        }
      ]
    },
    {
      "cell_type": "code",
      "source": [
        "cvscores=[]"
      ],
      "metadata": {
        "id": "KAry_oRy9EWt"
      },
      "execution_count": null,
      "outputs": []
    },
    {
      "cell_type": "code",
      "source": [
        "for train,test in kfold.split(X,Y):\n",
        "  model=Sequential()\n",
        "  model.add(Dense(12,input_dim=8,activation='relu'))\n",
        "  model.add(Dense(8,activation='relu'))\n",
        "  model.add(Dense(1,activation='sigmoid'))\n",
        "  model.compile(loss='binary_crossentropy', optimizer='adam',metrics=['accuracy'])\n",
        "  scores=model.evaluate(X[test],Y[test],verbose=0)\n",
        "  print(\"%s: %.2f%%\" %  (model.metrics_names[1], scores[1]*100))\n",
        "  print(\"%s: %.2f%%\" %  (model.metrics_names[0],scores[0]*100))\n",
        "  cvscores.append(scores[1]*100)\n",
        "  print(\"%.2f%% (+/- %.2f%%)\" % (np.mean(cvscores), np.std(cvscores)))"
      ],
      "metadata": {
        "colab": {
          "base_uri": "https://localhost:8080/"
        },
        "id": "xzdobAGN9rVc",
        "outputId": "97891563-0573-46e3-d80d-841d58629b82"
      },
      "execution_count": null,
      "outputs": [
        {
          "output_type": "stream",
          "name": "stdout",
          "text": [
            "accuracy: 64.94%\n",
            "loss: 1422.38%\n",
            "64.94% (+/- 0.00%)\n",
            "accuracy: 35.06%\n",
            "loss: 1539.49%\n",
            "50.00% (+/- 14.94%)\n"
          ]
        },
        {
          "output_type": "stream",
          "name": "stderr",
          "text": [
            "WARNING:tensorflow:5 out of the last 7810 calls to <function Model.make_test_function.<locals>.test_function at 0x7bdb66c04d30> triggered tf.function retracing. Tracing is expensive and the excessive number of tracings could be due to (1) creating @tf.function repeatedly in a loop, (2) passing tensors with different shapes, (3) passing Python objects instead of tensors. For (1), please define your @tf.function outside of the loop. For (2), @tf.function has reduce_retracing=True option that can avoid unnecessary retracing. For (3), please refer to https://www.tensorflow.org/guide/function#controlling_retracing and https://www.tensorflow.org/api_docs/python/tf/function for  more details.\n"
          ]
        },
        {
          "output_type": "stream",
          "name": "stdout",
          "text": [
            "accuracy: 35.06%\n",
            "loss: 1195.32%\n",
            "45.02% (+/- 14.08%)\n"
          ]
        },
        {
          "output_type": "stream",
          "name": "stderr",
          "text": [
            "WARNING:tensorflow:5 out of the last 13 calls to <function Model.make_test_function.<locals>.test_function at 0x7bdb66b3e5f0> triggered tf.function retracing. Tracing is expensive and the excessive number of tracings could be due to (1) creating @tf.function repeatedly in a loop, (2) passing tensors with different shapes, (3) passing Python objects instead of tensors. For (1), please define your @tf.function outside of the loop. For (2), @tf.function has reduce_retracing=True option that can avoid unnecessary retracing. For (3), please refer to https://www.tensorflow.org/guide/function#controlling_retracing and https://www.tensorflow.org/api_docs/python/tf/function for  more details.\n"
          ]
        },
        {
          "output_type": "stream",
          "name": "stdout",
          "text": [
            "accuracy: 67.53%\n",
            "loss: 1697.02%\n",
            "50.65% (+/- 15.61%)\n",
            "accuracy: 36.36%\n",
            "loss: 1664.45%\n",
            "47.79% (+/- 15.09%)\n",
            "accuracy: 54.55%\n",
            "loss: 1221.49%\n",
            "48.92% (+/- 14.00%)\n",
            "accuracy: 61.04%\n",
            "loss: 356.15%\n",
            "50.65% (+/- 13.64%)\n",
            "accuracy: 37.66%\n",
            "loss: 963.23%\n",
            "49.03% (+/- 13.46%)\n",
            "accuracy: 69.74%\n",
            "loss: 348.84%\n",
            "51.33% (+/- 14.26%)\n",
            "accuracy: 65.79%\n",
            "loss: 1891.14%\n",
            "52.77% (+/- 14.21%)\n"
          ]
        }
      ]
    },
    {
      "cell_type": "code",
      "source": [],
      "metadata": {
        "id": "MNxQjrwW-DY8"
      },
      "execution_count": null,
      "outputs": []
    }
  ]
}