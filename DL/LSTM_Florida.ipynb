{
  "nbformat": 4,
  "nbformat_minor": 0,
  "metadata": {
    "colab": {
      "provenance": []
    },
    "kernelspec": {
      "name": "python3",
      "display_name": "Python 3"
    },
    "language_info": {
      "name": "python"
    }
  },
  "cells": [
    {
      "cell_type": "code",
      "execution_count": null,
      "metadata": {
        "id": "rzjjhJuox4Z-"
      },
      "outputs": [],
      "source": [
        "import numpy as np\n",
        "import matplotlib.pyplot as plt\n",
        "import pandas as pd\n",
        "import tensorflow as tf\n",
        "from tensorflow.keras.models import Sequential\n",
        "from tensorflow.keras.layers import Dense\n",
        "from tensorflow.keras.layers import LSTM\n",
        "from sklearn.preprocessing import MinMaxScaler\n",
        "from sklearn.metrics import mean_squared_error"
      ]
    },
    {
      "cell_type": "code",
      "source": [
        "from google.colab import drive\n",
        "drive.mount('/content/drive')"
      ],
      "metadata": {
        "colab": {
          "base_uri": "https://localhost:8080/"
        },
        "id": "AUsAzo37OZaf",
        "outputId": "b97d7848-69b7-470f-aa62-10d609b21383"
      },
      "execution_count": null,
      "outputs": [
        {
          "output_type": "stream",
          "name": "stdout",
          "text": [
            "Drive already mounted at /content/drive; to attempt to forcibly remount, call drive.mount(\"/content/drive\", force_remount=True).\n"
          ]
        }
      ]
    },
    {
      "cell_type": "code",
      "source": [
        "# fix random seed for reproducibility\n",
        "np.random.seed(7)\n",
        "# load the dataset\n",
        "dataframe = pd.read_csv( '/content/drive/MyDrive/Colab Notebooks/Deep Learning/florida_file_.csv' , usecols=[1])\n",
        "data_set=dataframe.values\n",
        "data_set=data_set.astype('float32')"
      ],
      "metadata": {
        "id": "Jhe8kMEX8aSP"
      },
      "execution_count": null,
      "outputs": []
    },
    {
      "cell_type": "code",
      "source": [
        "dataframe"
      ],
      "metadata": {
        "colab": {
          "base_uri": "https://localhost:8080/",
          "height": 424
        },
        "id": "qoVjYGeE8tsR",
        "outputId": "15baedf5-244c-4faf-8f98-d2a67b76e910"
      },
      "execution_count": null,
      "outputs": [
        {
          "output_type": "execute_result",
          "data": {
            "text/plain": [
              "      Avg_Temp\n",
              "0       17.694\n",
              "1       22.978\n",
              "2       22.978\n",
              "3       22.978\n",
              "4       22.978\n",
              "...        ...\n",
              "3234    23.576\n",
              "3235    27.432\n",
              "3236    27.327\n",
              "3237    28.188\n",
              "3238    27.493\n",
              "\n",
              "[3239 rows x 1 columns]"
            ],
            "text/html": [
              "\n",
              "  <div id=\"df-aaa7b0c4-679d-46b9-8513-1da873701365\" class=\"colab-df-container\">\n",
              "    <div>\n",
              "<style scoped>\n",
              "    .dataframe tbody tr th:only-of-type {\n",
              "        vertical-align: middle;\n",
              "    }\n",
              "\n",
              "    .dataframe tbody tr th {\n",
              "        vertical-align: top;\n",
              "    }\n",
              "\n",
              "    .dataframe thead th {\n",
              "        text-align: right;\n",
              "    }\n",
              "</style>\n",
              "<table border=\"1\" class=\"dataframe\">\n",
              "  <thead>\n",
              "    <tr style=\"text-align: right;\">\n",
              "      <th></th>\n",
              "      <th>Avg_Temp</th>\n",
              "    </tr>\n",
              "  </thead>\n",
              "  <tbody>\n",
              "    <tr>\n",
              "      <th>0</th>\n",
              "      <td>17.694</td>\n",
              "    </tr>\n",
              "    <tr>\n",
              "      <th>1</th>\n",
              "      <td>22.978</td>\n",
              "    </tr>\n",
              "    <tr>\n",
              "      <th>2</th>\n",
              "      <td>22.978</td>\n",
              "    </tr>\n",
              "    <tr>\n",
              "      <th>3</th>\n",
              "      <td>22.978</td>\n",
              "    </tr>\n",
              "    <tr>\n",
              "      <th>4</th>\n",
              "      <td>22.978</td>\n",
              "    </tr>\n",
              "    <tr>\n",
              "      <th>...</th>\n",
              "      <td>...</td>\n",
              "    </tr>\n",
              "    <tr>\n",
              "      <th>3234</th>\n",
              "      <td>23.576</td>\n",
              "    </tr>\n",
              "    <tr>\n",
              "      <th>3235</th>\n",
              "      <td>27.432</td>\n",
              "    </tr>\n",
              "    <tr>\n",
              "      <th>3236</th>\n",
              "      <td>27.327</td>\n",
              "    </tr>\n",
              "    <tr>\n",
              "      <th>3237</th>\n",
              "      <td>28.188</td>\n",
              "    </tr>\n",
              "    <tr>\n",
              "      <th>3238</th>\n",
              "      <td>27.493</td>\n",
              "    </tr>\n",
              "  </tbody>\n",
              "</table>\n",
              "<p>3239 rows × 1 columns</p>\n",
              "</div>\n",
              "    <div class=\"colab-df-buttons\">\n",
              "\n",
              "  <div class=\"colab-df-container\">\n",
              "    <button class=\"colab-df-convert\" onclick=\"convertToInteractive('df-aaa7b0c4-679d-46b9-8513-1da873701365')\"\n",
              "            title=\"Convert this dataframe to an interactive table.\"\n",
              "            style=\"display:none;\">\n",
              "\n",
              "  <svg xmlns=\"http://www.w3.org/2000/svg\" height=\"24px\" viewBox=\"0 -960 960 960\">\n",
              "    <path d=\"M120-120v-720h720v720H120Zm60-500h600v-160H180v160Zm220 220h160v-160H400v160Zm0 220h160v-160H400v160ZM180-400h160v-160H180v160Zm440 0h160v-160H620v160ZM180-180h160v-160H180v160Zm440 0h160v-160H620v160Z\"/>\n",
              "  </svg>\n",
              "    </button>\n",
              "\n",
              "  <style>\n",
              "    .colab-df-container {\n",
              "      display:flex;\n",
              "      gap: 12px;\n",
              "    }\n",
              "\n",
              "    .colab-df-convert {\n",
              "      background-color: #E8F0FE;\n",
              "      border: none;\n",
              "      border-radius: 50%;\n",
              "      cursor: pointer;\n",
              "      display: none;\n",
              "      fill: #1967D2;\n",
              "      height: 32px;\n",
              "      padding: 0 0 0 0;\n",
              "      width: 32px;\n",
              "    }\n",
              "\n",
              "    .colab-df-convert:hover {\n",
              "      background-color: #E2EBFA;\n",
              "      box-shadow: 0px 1px 2px rgba(60, 64, 67, 0.3), 0px 1px 3px 1px rgba(60, 64, 67, 0.15);\n",
              "      fill: #174EA6;\n",
              "    }\n",
              "\n",
              "    .colab-df-buttons div {\n",
              "      margin-bottom: 4px;\n",
              "    }\n",
              "\n",
              "    [theme=dark] .colab-df-convert {\n",
              "      background-color: #3B4455;\n",
              "      fill: #D2E3FC;\n",
              "    }\n",
              "\n",
              "    [theme=dark] .colab-df-convert:hover {\n",
              "      background-color: #434B5C;\n",
              "      box-shadow: 0px 1px 3px 1px rgba(0, 0, 0, 0.15);\n",
              "      filter: drop-shadow(0px 1px 2px rgba(0, 0, 0, 0.3));\n",
              "      fill: #FFFFFF;\n",
              "    }\n",
              "  </style>\n",
              "\n",
              "    <script>\n",
              "      const buttonEl =\n",
              "        document.querySelector('#df-aaa7b0c4-679d-46b9-8513-1da873701365 button.colab-df-convert');\n",
              "      buttonEl.style.display =\n",
              "        google.colab.kernel.accessAllowed ? 'block' : 'none';\n",
              "\n",
              "      async function convertToInteractive(key) {\n",
              "        const element = document.querySelector('#df-aaa7b0c4-679d-46b9-8513-1da873701365');\n",
              "        const dataTable =\n",
              "          await google.colab.kernel.invokeFunction('convertToInteractive',\n",
              "                                                    [key], {});\n",
              "        if (!dataTable) return;\n",
              "\n",
              "        const docLinkHtml = 'Like what you see? Visit the ' +\n",
              "          '<a target=\"_blank\" href=https://colab.research.google.com/notebooks/data_table.ipynb>data table notebook</a>'\n",
              "          + ' to learn more about interactive tables.';\n",
              "        element.innerHTML = '';\n",
              "        dataTable['output_type'] = 'display_data';\n",
              "        await google.colab.output.renderOutput(dataTable, element);\n",
              "        const docLink = document.createElement('div');\n",
              "        docLink.innerHTML = docLinkHtml;\n",
              "        element.appendChild(docLink);\n",
              "      }\n",
              "    </script>\n",
              "  </div>\n",
              "\n",
              "\n",
              "<div id=\"df-380c0678-1afb-4ea9-8afc-74fc586328f6\">\n",
              "  <button class=\"colab-df-quickchart\" onclick=\"quickchart('df-380c0678-1afb-4ea9-8afc-74fc586328f6')\"\n",
              "            title=\"Suggest charts.\"\n",
              "            style=\"display:none;\">\n",
              "\n",
              "<svg xmlns=\"http://www.w3.org/2000/svg\" height=\"24px\"viewBox=\"0 0 24 24\"\n",
              "     width=\"24px\">\n",
              "    <g>\n",
              "        <path d=\"M19 3H5c-1.1 0-2 .9-2 2v14c0 1.1.9 2 2 2h14c1.1 0 2-.9 2-2V5c0-1.1-.9-2-2-2zM9 17H7v-7h2v7zm4 0h-2V7h2v10zm4 0h-2v-4h2v4z\"/>\n",
              "    </g>\n",
              "</svg>\n",
              "  </button>\n",
              "\n",
              "<style>\n",
              "  .colab-df-quickchart {\n",
              "      --bg-color: #E8F0FE;\n",
              "      --fill-color: #1967D2;\n",
              "      --hover-bg-color: #E2EBFA;\n",
              "      --hover-fill-color: #174EA6;\n",
              "      --disabled-fill-color: #AAA;\n",
              "      --disabled-bg-color: #DDD;\n",
              "  }\n",
              "\n",
              "  [theme=dark] .colab-df-quickchart {\n",
              "      --bg-color: #3B4455;\n",
              "      --fill-color: #D2E3FC;\n",
              "      --hover-bg-color: #434B5C;\n",
              "      --hover-fill-color: #FFFFFF;\n",
              "      --disabled-bg-color: #3B4455;\n",
              "      --disabled-fill-color: #666;\n",
              "  }\n",
              "\n",
              "  .colab-df-quickchart {\n",
              "    background-color: var(--bg-color);\n",
              "    border: none;\n",
              "    border-radius: 50%;\n",
              "    cursor: pointer;\n",
              "    display: none;\n",
              "    fill: var(--fill-color);\n",
              "    height: 32px;\n",
              "    padding: 0;\n",
              "    width: 32px;\n",
              "  }\n",
              "\n",
              "  .colab-df-quickchart:hover {\n",
              "    background-color: var(--hover-bg-color);\n",
              "    box-shadow: 0 1px 2px rgba(60, 64, 67, 0.3), 0 1px 3px 1px rgba(60, 64, 67, 0.15);\n",
              "    fill: var(--button-hover-fill-color);\n",
              "  }\n",
              "\n",
              "  .colab-df-quickchart-complete:disabled,\n",
              "  .colab-df-quickchart-complete:disabled:hover {\n",
              "    background-color: var(--disabled-bg-color);\n",
              "    fill: var(--disabled-fill-color);\n",
              "    box-shadow: none;\n",
              "  }\n",
              "\n",
              "  .colab-df-spinner {\n",
              "    border: 2px solid var(--fill-color);\n",
              "    border-color: transparent;\n",
              "    border-bottom-color: var(--fill-color);\n",
              "    animation:\n",
              "      spin 1s steps(1) infinite;\n",
              "  }\n",
              "\n",
              "  @keyframes spin {\n",
              "    0% {\n",
              "      border-color: transparent;\n",
              "      border-bottom-color: var(--fill-color);\n",
              "      border-left-color: var(--fill-color);\n",
              "    }\n",
              "    20% {\n",
              "      border-color: transparent;\n",
              "      border-left-color: var(--fill-color);\n",
              "      border-top-color: var(--fill-color);\n",
              "    }\n",
              "    30% {\n",
              "      border-color: transparent;\n",
              "      border-left-color: var(--fill-color);\n",
              "      border-top-color: var(--fill-color);\n",
              "      border-right-color: var(--fill-color);\n",
              "    }\n",
              "    40% {\n",
              "      border-color: transparent;\n",
              "      border-right-color: var(--fill-color);\n",
              "      border-top-color: var(--fill-color);\n",
              "    }\n",
              "    60% {\n",
              "      border-color: transparent;\n",
              "      border-right-color: var(--fill-color);\n",
              "    }\n",
              "    80% {\n",
              "      border-color: transparent;\n",
              "      border-right-color: var(--fill-color);\n",
              "      border-bottom-color: var(--fill-color);\n",
              "    }\n",
              "    90% {\n",
              "      border-color: transparent;\n",
              "      border-bottom-color: var(--fill-color);\n",
              "    }\n",
              "  }\n",
              "</style>\n",
              "\n",
              "  <script>\n",
              "    async function quickchart(key) {\n",
              "      const quickchartButtonEl =\n",
              "        document.querySelector('#' + key + ' button');\n",
              "      quickchartButtonEl.disabled = true;  // To prevent multiple clicks.\n",
              "      quickchartButtonEl.classList.add('colab-df-spinner');\n",
              "      try {\n",
              "        const charts = await google.colab.kernel.invokeFunction(\n",
              "            'suggestCharts', [key], {});\n",
              "      } catch (error) {\n",
              "        console.error('Error during call to suggestCharts:', error);\n",
              "      }\n",
              "      quickchartButtonEl.classList.remove('colab-df-spinner');\n",
              "      quickchartButtonEl.classList.add('colab-df-quickchart-complete');\n",
              "    }\n",
              "    (() => {\n",
              "      let quickchartButtonEl =\n",
              "        document.querySelector('#df-380c0678-1afb-4ea9-8afc-74fc586328f6 button');\n",
              "      quickchartButtonEl.style.display =\n",
              "        google.colab.kernel.accessAllowed ? 'block' : 'none';\n",
              "    })();\n",
              "  </script>\n",
              "</div>\n",
              "    </div>\n",
              "  </div>\n"
            ]
          },
          "metadata": {},
          "execution_count": 118
        }
      ]
    },
    {
      "cell_type": "code",
      "source": [
        "def create_dataset(dataset, look_back=1):\n",
        "  dataX, dataY = [], []\n",
        "  for i in range(len(dataset)-look_back-1):\n",
        "    a = dataset[i:(i+look_back), 0]\n",
        "    dataX.append(a)\n",
        "    dataY.append(dataset[i + look_back, 0])\n",
        "  return np.array(dataX), np.array(dataY) #REQUIRED TO BUILD A NEURAL NETWORK"
      ],
      "metadata": {
        "id": "GBywdof8817U"
      },
      "execution_count": null,
      "outputs": []
    },
    {
      "cell_type": "code",
      "source": [
        "# normalize the dataset\n",
        "scaler = MinMaxScaler(feature_range=(0, 1))\n",
        "data_set = scaler.fit_transform(data_set)"
      ],
      "metadata": {
        "id": "m4-l_ss9ZOsq"
      },
      "execution_count": null,
      "outputs": []
    },
    {
      "cell_type": "code",
      "source": [
        "# split into train and test sets\n",
        "train_size = int(len(data_set) * 0.67)# 67 % FOR TRAINING\n",
        "test_size = len(data_set) - train_size\n",
        "train, test = data_set[0:train_size,:], data_set[train_size:len(data_set),:]\n",
        "print(len(train), len(test))"
      ],
      "metadata": {
        "colab": {
          "base_uri": "https://localhost:8080/"
        },
        "id": "qDl3K98Z8hUC",
        "outputId": "4efb0815-2b0c-46d3-fd46-4ba4a962f91a"
      },
      "execution_count": null,
      "outputs": [
        {
          "output_type": "stream",
          "name": "stdout",
          "text": [
            "2170 1069\n"
          ]
        }
      ]
    },
    {
      "cell_type": "code",
      "source": [
        "# reshape into X=t and Y=t+1\n",
        "look_back = 1\n",
        "trainX, trainY = create_dataset(train, look_back)\n",
        "testX, testY = create_dataset(test, look_back)"
      ],
      "metadata": {
        "id": "CguWLA-78_Nx"
      },
      "execution_count": null,
      "outputs": []
    },
    {
      "cell_type": "code",
      "source": [
        "trainY"
      ],
      "metadata": {
        "colab": {
          "base_uri": "https://localhost:8080/"
        },
        "id": "AhB-JWGuY7Lq",
        "outputId": "62b73b9c-6ef8-473c-8401-b66f5f7fa611"
      },
      "execution_count": null,
      "outputs": [
        {
          "output_type": "execute_result",
          "data": {
            "text/plain": [
              "array([0.5651394 , 0.5651394 , 0.5651394 , ..., 0.58401966, 0.74592614,\n",
              "       0.7446995 ], dtype=float32)"
            ]
          },
          "metadata": {},
          "execution_count": 112
        }
      ]
    },
    {
      "cell_type": "code",
      "source": [
        "# reshape input to be [samples, time steps, features]\n",
        "trainX = np.reshape(trainX, (trainX.shape[0], 1, trainX.shape[1]))\n",
        "testX = np.reshape(testX, (testX.shape[0], 1, testX.shape[1]))"
      ],
      "metadata": {
        "id": "b_4HOhDdaHFD"
      },
      "execution_count": null,
      "outputs": []
    },
    {
      "cell_type": "code",
      "source": [
        "# create and fit the LSTM network\n",
        "model = Sequential()\n",
        "model.add(LSTM(8, input_shape=(1, look_back)))\n",
        "model.add(Dense(1))\n",
        "model.compile(loss='mean_squared_error', optimizer='adam')\n",
        "model.fit(trainX, trainY, epochs=100, batch_size=1, verbose=2)"
      ],
      "metadata": {
        "colab": {
          "base_uri": "https://localhost:8080/"
        },
        "id": "BZlOB-fy9G8j",
        "outputId": "c390d28d-7f1a-4871-8101-325b8ce939f1"
      },
      "execution_count": null,
      "outputs": [
        {
          "output_type": "stream",
          "name": "stdout",
          "text": [
            "Epoch 1/100\n",
            "2168/2168 - 5s - loss: 0.0360 - 5s/epoch - 2ms/step\n",
            "Epoch 2/100\n",
            "2168/2168 - 3s - loss: 0.0139 - 3s/epoch - 1ms/step\n",
            "Epoch 3/100\n",
            "2168/2168 - 3s - loss: 0.0138 - 3s/epoch - 1ms/step\n",
            "Epoch 4/100\n",
            "2168/2168 - 3s - loss: 0.0138 - 3s/epoch - 1ms/step\n",
            "Epoch 5/100\n",
            "2168/2168 - 3s - loss: 0.0138 - 3s/epoch - 1ms/step\n",
            "Epoch 6/100\n",
            "2168/2168 - 3s - loss: 0.0137 - 3s/epoch - 1ms/step\n",
            "Epoch 7/100\n",
            "2168/2168 - 3s - loss: 0.0138 - 3s/epoch - 1ms/step\n",
            "Epoch 8/100\n",
            "2168/2168 - 3s - loss: 0.0138 - 3s/epoch - 1ms/step\n",
            "Epoch 9/100\n",
            "2168/2168 - 3s - loss: 0.0139 - 3s/epoch - 1ms/step\n",
            "Epoch 10/100\n",
            "2168/2168 - 3s - loss: 0.0136 - 3s/epoch - 1ms/step\n",
            "Epoch 11/100\n",
            "2168/2168 - 3s - loss: 0.0137 - 3s/epoch - 1ms/step\n",
            "Epoch 12/100\n",
            "2168/2168 - 3s - loss: 0.0138 - 3s/epoch - 1ms/step\n",
            "Epoch 13/100\n",
            "2168/2168 - 3s - loss: 0.0138 - 3s/epoch - 1ms/step\n",
            "Epoch 14/100\n",
            "2168/2168 - 3s - loss: 0.0137 - 3s/epoch - 1ms/step\n",
            "Epoch 15/100\n",
            "2168/2168 - 3s - loss: 0.0137 - 3s/epoch - 2ms/step\n",
            "Epoch 16/100\n",
            "2168/2168 - 3s - loss: 0.0138 - 3s/epoch - 1ms/step\n",
            "Epoch 17/100\n",
            "2168/2168 - 3s - loss: 0.0138 - 3s/epoch - 1ms/step\n",
            "Epoch 18/100\n",
            "2168/2168 - 3s - loss: 0.0137 - 3s/epoch - 1ms/step\n",
            "Epoch 19/100\n",
            "2168/2168 - 3s - loss: 0.0138 - 3s/epoch - 1ms/step\n",
            "Epoch 20/100\n",
            "2168/2168 - 3s - loss: 0.0137 - 3s/epoch - 1ms/step\n",
            "Epoch 21/100\n",
            "2168/2168 - 3s - loss: 0.0137 - 3s/epoch - 1ms/step\n",
            "Epoch 22/100\n",
            "2168/2168 - 3s - loss: 0.0137 - 3s/epoch - 1ms/step\n",
            "Epoch 23/100\n",
            "2168/2168 - 3s - loss: 0.0138 - 3s/epoch - 1ms/step\n",
            "Epoch 24/100\n",
            "2168/2168 - 3s - loss: 0.0137 - 3s/epoch - 1ms/step\n",
            "Epoch 25/100\n",
            "2168/2168 - 3s - loss: 0.0138 - 3s/epoch - 1ms/step\n",
            "Epoch 26/100\n",
            "2168/2168 - 3s - loss: 0.0136 - 3s/epoch - 1ms/step\n",
            "Epoch 27/100\n",
            "2168/2168 - 3s - loss: 0.0137 - 3s/epoch - 1ms/step\n",
            "Epoch 28/100\n",
            "2168/2168 - 3s - loss: 0.0137 - 3s/epoch - 2ms/step\n",
            "Epoch 29/100\n",
            "2168/2168 - 3s - loss: 0.0138 - 3s/epoch - 1ms/step\n",
            "Epoch 30/100\n",
            "2168/2168 - 3s - loss: 0.0138 - 3s/epoch - 1ms/step\n",
            "Epoch 31/100\n",
            "2168/2168 - 2s - loss: 0.0137 - 2s/epoch - 1ms/step\n",
            "Epoch 32/100\n",
            "2168/2168 - 3s - loss: 0.0138 - 3s/epoch - 1ms/step\n",
            "Epoch 33/100\n",
            "2168/2168 - 3s - loss: 0.0138 - 3s/epoch - 1ms/step\n",
            "Epoch 34/100\n",
            "2168/2168 - 3s - loss: 0.0138 - 3s/epoch - 1ms/step\n",
            "Epoch 35/100\n",
            "2168/2168 - 3s - loss: 0.0138 - 3s/epoch - 1ms/step\n",
            "Epoch 36/100\n",
            "2168/2168 - 3s - loss: 0.0137 - 3s/epoch - 1ms/step\n",
            "Epoch 37/100\n",
            "2168/2168 - 4s - loss: 0.0137 - 4s/epoch - 2ms/step\n",
            "Epoch 38/100\n",
            "2168/2168 - 4s - loss: 0.0137 - 4s/epoch - 2ms/step\n",
            "Epoch 39/100\n",
            "2168/2168 - 3s - loss: 0.0137 - 3s/epoch - 1ms/step\n",
            "Epoch 40/100\n",
            "2168/2168 - 3s - loss: 0.0137 - 3s/epoch - 1ms/step\n",
            "Epoch 41/100\n",
            "2168/2168 - 3s - loss: 0.0137 - 3s/epoch - 1ms/step\n",
            "Epoch 42/100\n",
            "2168/2168 - 3s - loss: 0.0137 - 3s/epoch - 1ms/step\n",
            "Epoch 43/100\n",
            "2168/2168 - 3s - loss: 0.0137 - 3s/epoch - 1ms/step\n",
            "Epoch 44/100\n",
            "2168/2168 - 3s - loss: 0.0138 - 3s/epoch - 1ms/step\n",
            "Epoch 45/100\n",
            "2168/2168 - 3s - loss: 0.0137 - 3s/epoch - 1ms/step\n",
            "Epoch 46/100\n",
            "2168/2168 - 3s - loss: 0.0136 - 3s/epoch - 1ms/step\n",
            "Epoch 47/100\n",
            "2168/2168 - 3s - loss: 0.0137 - 3s/epoch - 1ms/step\n",
            "Epoch 48/100\n",
            "2168/2168 - 3s - loss: 0.0136 - 3s/epoch - 1ms/step\n",
            "Epoch 49/100\n",
            "2168/2168 - 3s - loss: 0.0137 - 3s/epoch - 1ms/step\n",
            "Epoch 50/100\n",
            "2168/2168 - 3s - loss: 0.0137 - 3s/epoch - 1ms/step\n",
            "Epoch 51/100\n",
            "2168/2168 - 3s - loss: 0.0137 - 3s/epoch - 1ms/step\n",
            "Epoch 52/100\n",
            "2168/2168 - 3s - loss: 0.0136 - 3s/epoch - 1ms/step\n",
            "Epoch 53/100\n",
            "2168/2168 - 3s - loss: 0.0136 - 3s/epoch - 1ms/step\n",
            "Epoch 54/100\n",
            "2168/2168 - 3s - loss: 0.0136 - 3s/epoch - 1ms/step\n",
            "Epoch 55/100\n",
            "2168/2168 - 3s - loss: 0.0136 - 3s/epoch - 1ms/step\n",
            "Epoch 56/100\n",
            "2168/2168 - 3s - loss: 0.0136 - 3s/epoch - 1ms/step\n",
            "Epoch 57/100\n",
            "2168/2168 - 3s - loss: 0.0136 - 3s/epoch - 1ms/step\n",
            "Epoch 58/100\n",
            "2168/2168 - 3s - loss: 0.0136 - 3s/epoch - 1ms/step\n",
            "Epoch 59/100\n",
            "2168/2168 - 3s - loss: 0.0136 - 3s/epoch - 1ms/step\n",
            "Epoch 60/100\n",
            "2168/2168 - 3s - loss: 0.0136 - 3s/epoch - 2ms/step\n",
            "Epoch 61/100\n",
            "2168/2168 - 3s - loss: 0.0136 - 3s/epoch - 1ms/step\n",
            "Epoch 62/100\n",
            "2168/2168 - 3s - loss: 0.0136 - 3s/epoch - 1ms/step\n",
            "Epoch 63/100\n",
            "2168/2168 - 3s - loss: 0.0136 - 3s/epoch - 1ms/step\n",
            "Epoch 64/100\n",
            "2168/2168 - 3s - loss: 0.0136 - 3s/epoch - 1ms/step\n",
            "Epoch 65/100\n",
            "2168/2168 - 3s - loss: 0.0136 - 3s/epoch - 1ms/step\n",
            "Epoch 66/100\n",
            "2168/2168 - 3s - loss: 0.0136 - 3s/epoch - 1ms/step\n",
            "Epoch 67/100\n",
            "2168/2168 - 3s - loss: 0.0136 - 3s/epoch - 1ms/step\n",
            "Epoch 68/100\n",
            "2168/2168 - 3s - loss: 0.0136 - 3s/epoch - 1ms/step\n",
            "Epoch 69/100\n",
            "2168/2168 - 3s - loss: 0.0136 - 3s/epoch - 1ms/step\n",
            "Epoch 70/100\n",
            "2168/2168 - 3s - loss: 0.0136 - 3s/epoch - 1ms/step\n",
            "Epoch 71/100\n",
            "2168/2168 - 3s - loss: 0.0135 - 3s/epoch - 1ms/step\n",
            "Epoch 72/100\n",
            "2168/2168 - 3s - loss: 0.0137 - 3s/epoch - 1ms/step\n",
            "Epoch 73/100\n",
            "2168/2168 - 3s - loss: 0.0135 - 3s/epoch - 1ms/step\n",
            "Epoch 74/100\n",
            "2168/2168 - 3s - loss: 0.0136 - 3s/epoch - 1ms/step\n",
            "Epoch 75/100\n",
            "2168/2168 - 3s - loss: 0.0135 - 3s/epoch - 1ms/step\n",
            "Epoch 76/100\n",
            "2168/2168 - 3s - loss: 0.0135 - 3s/epoch - 1ms/step\n",
            "Epoch 77/100\n",
            "2168/2168 - 3s - loss: 0.0135 - 3s/epoch - 1ms/step\n",
            "Epoch 78/100\n",
            "2168/2168 - 3s - loss: 0.0135 - 3s/epoch - 1ms/step\n",
            "Epoch 79/100\n",
            "2168/2168 - 3s - loss: 0.0135 - 3s/epoch - 1ms/step\n",
            "Epoch 80/100\n",
            "2168/2168 - 3s - loss: 0.0135 - 3s/epoch - 1ms/step\n",
            "Epoch 81/100\n",
            "2168/2168 - 3s - loss: 0.0136 - 3s/epoch - 1ms/step\n",
            "Epoch 82/100\n",
            "2168/2168 - 3s - loss: 0.0135 - 3s/epoch - 1ms/step\n",
            "Epoch 83/100\n",
            "2168/2168 - 3s - loss: 0.0136 - 3s/epoch - 1ms/step\n",
            "Epoch 84/100\n",
            "2168/2168 - 3s - loss: 0.0136 - 3s/epoch - 1ms/step\n",
            "Epoch 85/100\n",
            "2168/2168 - 3s - loss: 0.0135 - 3s/epoch - 1ms/step\n",
            "Epoch 86/100\n",
            "2168/2168 - 3s - loss: 0.0135 - 3s/epoch - 1ms/step\n",
            "Epoch 87/100\n",
            "2168/2168 - 3s - loss: 0.0136 - 3s/epoch - 1ms/step\n",
            "Epoch 88/100\n",
            "2168/2168 - 3s - loss: 0.0135 - 3s/epoch - 1ms/step\n",
            "Epoch 89/100\n",
            "2168/2168 - 3s - loss: 0.0135 - 3s/epoch - 1ms/step\n",
            "Epoch 90/100\n",
            "2168/2168 - 3s - loss: 0.0135 - 3s/epoch - 1ms/step\n",
            "Epoch 91/100\n",
            "2168/2168 - 3s - loss: 0.0136 - 3s/epoch - 1ms/step\n",
            "Epoch 92/100\n",
            "2168/2168 - 3s - loss: 0.0135 - 3s/epoch - 1ms/step\n",
            "Epoch 93/100\n",
            "2168/2168 - 3s - loss: 0.0136 - 3s/epoch - 1ms/step\n",
            "Epoch 94/100\n",
            "2168/2168 - 3s - loss: 0.0134 - 3s/epoch - 1ms/step\n",
            "Epoch 95/100\n",
            "2168/2168 - 3s - loss: 0.0135 - 3s/epoch - 1ms/step\n",
            "Epoch 96/100\n",
            "2168/2168 - 3s - loss: 0.0135 - 3s/epoch - 1ms/step\n",
            "Epoch 97/100\n",
            "2168/2168 - 3s - loss: 0.0136 - 3s/epoch - 1ms/step\n",
            "Epoch 98/100\n",
            "2168/2168 - 3s - loss: 0.0135 - 3s/epoch - 1ms/step\n",
            "Epoch 99/100\n",
            "2168/2168 - 3s - loss: 0.0136 - 3s/epoch - 1ms/step\n",
            "Epoch 100/100\n",
            "2168/2168 - 3s - loss: 0.0135 - 3s/epoch - 1ms/step\n"
          ]
        },
        {
          "output_type": "execute_result",
          "data": {
            "text/plain": [
              "<keras.src.callbacks.History at 0x7c8350e40790>"
            ]
          },
          "metadata": {},
          "execution_count": 124
        }
      ]
    },
    {
      "cell_type": "code",
      "source": [
        "# make predictions\n",
        "trainPredict = model.predict(trainX)\n",
        "testPredict = model.predict(testX)\n",
        "\n"
      ],
      "metadata": {
        "colab": {
          "base_uri": "https://localhost:8080/"
        },
        "id": "xcGj56O29ILM",
        "outputId": "9200201f-36bc-402b-9af5-8f27e2727942"
      },
      "execution_count": null,
      "outputs": [
        {
          "output_type": "stream",
          "name": "stdout",
          "text": [
            "68/68 [==============================] - 0s 1ms/step\n",
            "34/34 [==============================] - 0s 1ms/step\n"
          ]
        }
      ]
    },
    {
      "cell_type": "code",
      "source": [
        "# invert predictions\n",
        "trainPredict = scaler.inverse_transform(trainPredict)\n",
        "trainY = scaler.inverse_transform([trainY])\n",
        "testPredict = scaler.inverse_transform(testPredict)\n",
        "testY = scaler.inverse_transform([testY])"
      ],
      "metadata": {
        "id": "qhYqgC3yqmPE"
      },
      "execution_count": null,
      "outputs": []
    },
    {
      "cell_type": "code",
      "source": [
        "# calculate root mean squared error\n",
        "trainScore = np.sqrt(mean_squared_error(trainY[0], trainPredict[:,0]))\n",
        "print('Train Score: %.2f RMSE' % (trainScore))\n",
        "testScore = np.sqrt(mean_squared_error(testY[0], testPredict[:,0]))\n",
        "print('Test Score: %.2f RMSE' % (testScore))"
      ],
      "metadata": {
        "colab": {
          "base_uri": "https://localhost:8080/"
        },
        "id": "2GAxZUXYcfO6",
        "outputId": "8b1416d1-6c5e-4a1d-a2d1-359176083aa9"
      },
      "execution_count": null,
      "outputs": [
        {
          "output_type": "stream",
          "name": "stdout",
          "text": [
            "Train Score: 2.64 RMSE\n",
            "Test Score: 2.74 RMSE\n"
          ]
        }
      ]
    },
    {
      "cell_type": "code",
      "source": [
        "# generate predictions for training\n",
        "trainPredict = model.predict(trainX)\n",
        "testPredict = model.predict(testX)\n",
        "# shift train predictions for plotting\n",
        "trainPredictPlot = np.empty_like(data_set)\n",
        "trainPredictPlot[:, :] = np.nan\n",
        "trainPredictPlot[look_back:len(trainPredict)+look_back, :] = trainPredict"
      ],
      "metadata": {
        "colab": {
          "base_uri": "https://localhost:8080/"
        },
        "id": "4rfmIoG99c39",
        "outputId": "4b2c274a-9167-47a8-ad7e-247f3a913f9d"
      },
      "execution_count": null,
      "outputs": [
        {
          "output_type": "stream",
          "name": "stdout",
          "text": [
            "68/68 [==============================] - 0s 1ms/step\n",
            "34/34 [==============================] - 0s 1ms/step\n"
          ]
        }
      ]
    },
    {
      "cell_type": "code",
      "source": [
        "# shift test predictions for plotting\n",
        "testPredictPlot = np.empty_like(data_set)\n",
        "testPredictPlot[:, :] = np.nan\n",
        "testPredictPlot[len(trainPredict)+(look_back*2)+1:len(data_set)-1, :] = testPredict\n",
        "# plot baseline and predictions\n",
        "plt.plot(data_set[1500:])\n",
        "plt.plot(trainPredictPlot[1500:])\n",
        "plt.plot(testPredictPlot[1500:])\n",
        "plt.show()"
      ],
      "metadata": {
        "colab": {
          "base_uri": "https://localhost:8080/",
          "height": 430
        },
        "id": "uZXIffym9i9_",
        "outputId": "2223514b-f52b-49ed-db43-7022fd337424"
      },
      "execution_count": null,
      "outputs": [
        {
          "output_type": "display_data",
          "data": {
            "text/plain": [
              "<Figure size 640x480 with 1 Axes>"
            ],
            "image/png": "[encoded data removed]"
          },
          "metadata": {}
        }
      ]
    },
    {
      "cell_type": "code",
      "source": [
        "len(trainPredict) + (look_back*2)+1"
      ],
      "metadata": {
        "colab": {
          "base_uri": "https://localhost:8080/"
        },
        "id": "kima-9WU9l1S",
        "outputId": "cbd1b681-48a8-4075-b2c0-21a6523508a1"
      },
      "execution_count": null,
      "outputs": [
        {
          "output_type": "execute_result",
          "data": {
            "text/plain": [
              "2171"
            ]
          },
          "metadata": {},
          "execution_count": 101
        }
      ]
    },
    {
      "cell_type": "code",
      "source": [],
      "metadata": {
        "id": "9bR01cRWoB8P"
      },
      "execution_count": null,
      "outputs": []
    }
  ]
}