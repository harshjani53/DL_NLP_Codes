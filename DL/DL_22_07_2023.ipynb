{
  "nbformat": 4,
  "nbformat_minor": 0,
  "metadata": {
    "colab": {
      "provenance": []
    },
    "kernelspec": {
      "name": "python3",
      "display_name": "Python 3"
    },
    "language_info": {
      "name": "python"
    }
  },
  "cells": [
    {
      "cell_type": "code",
      "execution_count": null,
      "metadata": {
        "id": "fZ-OkjrOaBKf"
      },
      "outputs": [],
      "source": [
        "# Type I\n",
        "weight=0.1\n",
        "def neural_network(input,weight):\n",
        "  prediction=input*weight\n",
        "  return prediction"
      ]
    },
    {
      "cell_type": "code",
      "source": [
        "number_of_toes=[8.5,9.5,10,9]\n",
        "input=number_of_toes[0]\n",
        "pred=neural_network(input,weight)\n",
        "print(pred)"
      ],
      "metadata": {
        "colab": {
          "base_uri": "https://localhost:8080/"
        },
        "id": "DtvsQa3orvi2",
        "outputId": "be5fc205-b714-4a2c-d921-bac2d845160c"
      },
      "execution_count": null,
      "outputs": [
        {
          "output_type": "stream",
          "name": "stdout",
          "text": [
            "0.8500000000000001\n"
          ]
        }
      ]
    },
    {
      "cell_type": "code",
      "source": [
        "#Type II\n",
        "def w_sum(a,b):\n",
        "  assert(len(a)==len(b))\n",
        "  output=0\n",
        "  for i in range(len(a)):\n",
        "    output+=(a[i]*b[i])\n",
        "  return output"
      ],
      "metadata": {
        "id": "AotUEGV6sB3Q"
      },
      "execution_count": null,
      "outputs": []
    },
    {
      "cell_type": "code",
      "source": [
        "def neural_network1(input,weight):\n",
        "  pred=w_sum(input,weights)\n",
        "  return pred"
      ],
      "metadata": {
        "id": "vfEI75GYtBwr"
      },
      "execution_count": null,
      "outputs": []
    },
    {
      "cell_type": "code",
      "source": [
        "weights=[0.1,0.2,0]\n",
        "toes=[8.5,9.5,9.9,9.0]\n",
        "wlrec=[0.65,0.8,0.8,0.9]\n",
        "nfans=[1.2,1.3,0.5,1.0]\n",
        "input=[toes[0],wlrec[0],nfans[0]]\n",
        "pred=neural_network1(input,weights)\n",
        "print(pred)"
      ],
      "metadata": {
        "colab": {
          "base_uri": "https://localhost:8080/"
        },
        "id": "Tlb-L4c3tQxZ",
        "outputId": "b71d7019-a667-44b3-b9c4-c791f96e27dd"
      },
      "execution_count": null,
      "outputs": [
        {
          "output_type": "stream",
          "name": "stdout",
          "text": [
            "0.9800000000000001\n"
          ]
        }
      ]
    },
    {
      "cell_type": "code",
      "source": [
        "#Type III\n",
        "import numpy as np"
      ],
      "metadata": {
        "id": "5ijS3ALUtx9Z"
      },
      "execution_count": null,
      "outputs": []
    },
    {
      "cell_type": "code",
      "source": [
        "def neural_network2(input,weights):\n",
        "  pred=input.dot(weights)\n",
        "  return pred"
      ],
      "metadata": {
        "id": "o4yvqOZvuXzx"
      },
      "execution_count": null,
      "outputs": []
    },
    {
      "cell_type": "code",
      "source": [
        "weights=np.array([0.1,0.2,0])\n",
        "toes=np.array([8.5,9.5,9.9,9.0])\n",
        "wlrec=np.array([0.65,0.8,0.8,0.9])\n",
        "nfans=np.array([1.2,1.3,0.5,1.0])\n",
        "input=np.array([toes[0],wlrec[0],nfans[0]])\n",
        "pred=neural_network2(input,weights)\n",
        "print(pred)"
      ],
      "metadata": {
        "colab": {
          "base_uri": "https://localhost:8080/",
          "height": 363
        },
        "id": "3zkeKnnxup6L",
        "outputId": "77b53cbb-29f2-4a30-98f0-8b04f5f7f40c"
      },
      "execution_count": null,
      "outputs": [
        {
          "output_type": "error",
          "ename": "TypeError",
          "evalue": "ignored",
          "traceback": [
            "\u001b[0;31m---------------------------------------------------------------------------\u001b[0m",
            "\u001b[0;31mTypeError\u001b[0m                                 Traceback (most recent call last)",
            "\u001b[0;32m<ipython-input-57-6aaf230746ca>\u001b[0m in \u001b[0;36m<cell line: 6>\u001b[0;34m()\u001b[0m\n\u001b[1;32m      4\u001b[0m \u001b[0mnfans\u001b[0m\u001b[0;34m=\u001b[0m\u001b[0mnp\u001b[0m\u001b[0;34m.\u001b[0m\u001b[0marray\u001b[0m\u001b[0;34m(\u001b[0m\u001b[0;34m[\u001b[0m\u001b[0;36m1.2\u001b[0m\u001b[0;34m,\u001b[0m\u001b[0;36m1.3\u001b[0m\u001b[0;34m,\u001b[0m\u001b[0;36m0.5\u001b[0m\u001b[0;34m,\u001b[0m\u001b[0;36m1.0\u001b[0m\u001b[0;34m]\u001b[0m\u001b[0;34m)\u001b[0m\u001b[0;34m\u001b[0m\u001b[0;34m\u001b[0m\u001b[0m\n\u001b[1;32m      5\u001b[0m \u001b[0minput\u001b[0m\u001b[0;34m=\u001b[0m\u001b[0mnp\u001b[0m\u001b[0;34m.\u001b[0m\u001b[0marray\u001b[0m\u001b[0;34m(\u001b[0m\u001b[0;34m[\u001b[0m\u001b[0mtoes\u001b[0m\u001b[0;34m[\u001b[0m\u001b[0;36m0\u001b[0m\u001b[0;34m]\u001b[0m\u001b[0;34m,\u001b[0m\u001b[0mwlrec\u001b[0m\u001b[0;34m[\u001b[0m\u001b[0;36m0\u001b[0m\u001b[0;34m]\u001b[0m\u001b[0;34m,\u001b[0m\u001b[0mnfans\u001b[0m\u001b[0;34m[\u001b[0m\u001b[0;36m0\u001b[0m\u001b[0;34m]\u001b[0m\u001b[0;34m]\u001b[0m\u001b[0;34m)\u001b[0m\u001b[0;34m\u001b[0m\u001b[0;34m\u001b[0m\u001b[0m\n\u001b[0;32m----> 6\u001b[0;31m \u001b[0mpred\u001b[0m\u001b[0;34m=\u001b[0m\u001b[0mneural_network2\u001b[0m\u001b[0;34m(\u001b[0m\u001b[0minput\u001b[0m\u001b[0;34m,\u001b[0m\u001b[0mweights\u001b[0m\u001b[0;34m)\u001b[0m\u001b[0;34m\u001b[0m\u001b[0;34m\u001b[0m\u001b[0m\n\u001b[0m\u001b[1;32m      7\u001b[0m \u001b[0mprint\u001b[0m\u001b[0;34m(\u001b[0m\u001b[0mpred\u001b[0m\u001b[0;34m)\u001b[0m\u001b[0;34m\u001b[0m\u001b[0;34m\u001b[0m\u001b[0m\n",
            "\u001b[0;32m<ipython-input-46-4811817a575a>\u001b[0m in \u001b[0;36mneural_network2\u001b[0;34m(input, weights)\u001b[0m\n\u001b[1;32m      1\u001b[0m \u001b[0;32mdef\u001b[0m \u001b[0mneural_network2\u001b[0m\u001b[0;34m(\u001b[0m\u001b[0minput\u001b[0m\u001b[0;34m,\u001b[0m\u001b[0mweights\u001b[0m\u001b[0;34m)\u001b[0m\u001b[0;34m:\u001b[0m\u001b[0;34m\u001b[0m\u001b[0;34m\u001b[0m\u001b[0m\n\u001b[0;32m----> 2\u001b[0;31m   \u001b[0mhid\u001b[0m\u001b[0;34m=\u001b[0m\u001b[0mvec_mat_mul\u001b[0m\u001b[0;34m(\u001b[0m\u001b[0minput\u001b[0m\u001b[0;34m,\u001b[0m\u001b[0mweights\u001b[0m\u001b[0;34m[\u001b[0m\u001b[0;36m0\u001b[0m\u001b[0;34m]\u001b[0m\u001b[0;34m)\u001b[0m\u001b[0;34m\u001b[0m\u001b[0;34m\u001b[0m\u001b[0m\n\u001b[0m\u001b[1;32m      3\u001b[0m   \u001b[0mpred\u001b[0m\u001b[0;34m=\u001b[0m\u001b[0mvec_mat_mul\u001b[0m\u001b[0;34m(\u001b[0m\u001b[0mhid\u001b[0m\u001b[0;34m,\u001b[0m\u001b[0mweights\u001b[0m\u001b[0;34m[\u001b[0m\u001b[0;36m0\u001b[0m\u001b[0;34m]\u001b[0m\u001b[0;34m)\u001b[0m\u001b[0;34m\u001b[0m\u001b[0;34m\u001b[0m\u001b[0m\n\u001b[1;32m      4\u001b[0m   \u001b[0;32mreturn\u001b[0m \u001b[0mpred\u001b[0m\u001b[0;34m\u001b[0m\u001b[0;34m\u001b[0m\u001b[0m\n",
            "\u001b[0;32m<ipython-input-34-dbef9fcd99f6>\u001b[0m in \u001b[0;36mvec_mat_mul\u001b[0;34m(vect, matrix)\u001b[0m\n\u001b[1;32m      1\u001b[0m \u001b[0;32mdef\u001b[0m \u001b[0mvec_mat_mul\u001b[0m\u001b[0;34m(\u001b[0m\u001b[0mvect\u001b[0m\u001b[0;34m,\u001b[0m\u001b[0mmatrix\u001b[0m\u001b[0;34m)\u001b[0m\u001b[0;34m:\u001b[0m\u001b[0;34m\u001b[0m\u001b[0;34m\u001b[0m\u001b[0m\n\u001b[1;32m      2\u001b[0m   \u001b[0moutput\u001b[0m\u001b[0;34m=\u001b[0m\u001b[0;34m[\u001b[0m\u001b[0;36m0\u001b[0m\u001b[0;34m,\u001b[0m\u001b[0;36m0\u001b[0m\u001b[0;34m,\u001b[0m\u001b[0;36m0\u001b[0m\u001b[0;34m]\u001b[0m\u001b[0;34m\u001b[0m\u001b[0;34m\u001b[0m\u001b[0m\n\u001b[0;32m----> 3\u001b[0;31m   \u001b[0;32massert\u001b[0m \u001b[0;34m(\u001b[0m\u001b[0mlen\u001b[0m\u001b[0;34m(\u001b[0m\u001b[0mvect\u001b[0m\u001b[0;34m)\u001b[0m\u001b[0;34m==\u001b[0m\u001b[0mlen\u001b[0m\u001b[0;34m(\u001b[0m\u001b[0mmatrix\u001b[0m\u001b[0;34m)\u001b[0m\u001b[0;34m)\u001b[0m\u001b[0;34m\u001b[0m\u001b[0;34m\u001b[0m\u001b[0m\n\u001b[0m\u001b[1;32m      4\u001b[0m   \u001b[0;32mfor\u001b[0m \u001b[0mi\u001b[0m \u001b[0;32min\u001b[0m \u001b[0mrange\u001b[0m\u001b[0;34m(\u001b[0m\u001b[0mlen\u001b[0m\u001b[0;34m(\u001b[0m\u001b[0mvect\u001b[0m\u001b[0;34m)\u001b[0m\u001b[0;34m)\u001b[0m\u001b[0;34m:\u001b[0m\u001b[0;34m\u001b[0m\u001b[0;34m\u001b[0m\u001b[0m\n\u001b[1;32m      5\u001b[0m     \u001b[0moutput\u001b[0m\u001b[0;34m[\u001b[0m\u001b[0mi\u001b[0m\u001b[0;34m]\u001b[0m\u001b[0;34m=\u001b[0m\u001b[0mw_sum\u001b[0m\u001b[0;34m(\u001b[0m\u001b[0mvect\u001b[0m\u001b[0;34m,\u001b[0m\u001b[0mmatrix\u001b[0m\u001b[0;34m[\u001b[0m\u001b[0mi\u001b[0m\u001b[0;34m]\u001b[0m\u001b[0;34m)\u001b[0m\u001b[0;34m\u001b[0m\u001b[0;34m\u001b[0m\u001b[0m\n",
            "\u001b[0;31mTypeError\u001b[0m: object of type 'numpy.float64' has no len()"
          ]
        }
      ]
    },
    {
      "cell_type": "code",
      "source": [
        "#Type IV\n",
        "def ele_mul(number,vector):\n",
        "  output=[0,0,0]\n",
        "  assert (len(output)==len(vector))\n",
        "  for i in range(len(vector)):\n",
        "    output[i]=number*vector[i]\n",
        "  return output"
      ],
      "metadata": {
        "id": "FXpKZzrrvzt1"
      },
      "execution_count": null,
      "outputs": []
    },
    {
      "cell_type": "code",
      "source": [
        "weights=[0.3,0.2,0.9]"
      ],
      "metadata": {
        "id": "Mqxirbu2wSvL"
      },
      "execution_count": null,
      "outputs": []
    },
    {
      "cell_type": "code",
      "source": [
        "def neural_network2(input,weights):\n",
        "  pred=ele_mul(input,weights)\n",
        "  return pred"
      ],
      "metadata": {
        "id": "k8IiduiFwZOj"
      },
      "execution_count": null,
      "outputs": []
    },
    {
      "cell_type": "code",
      "source": [
        "wlrec=[0.65,0.8,0.8,0.9]"
      ],
      "metadata": {
        "id": "xTeQ0PsZwmYs"
      },
      "execution_count": null,
      "outputs": []
    },
    {
      "cell_type": "code",
      "source": [
        "input=wlrec[0]"
      ],
      "metadata": {
        "id": "WLmNwnAiwnOk"
      },
      "execution_count": null,
      "outputs": []
    },
    {
      "cell_type": "code",
      "source": [
        "pred=neural_network2(input,weights)\n",
        "print(pred)"
      ],
      "metadata": {
        "colab": {
          "base_uri": "https://localhost:8080/"
        },
        "id": "P_qSeDr1wqSc",
        "outputId": "aba35ccb-7e54-49a4-ad17-ef5e51b0a361"
      },
      "execution_count": null,
      "outputs": [
        {
          "output_type": "stream",
          "name": "stdout",
          "text": [
            "[0.195, 0.13, 0.5850000000000001]\n"
          ]
        }
      ]
    },
    {
      "cell_type": "code",
      "source": [
        "#Type V\n",
        "weights=[[0.1,0.1,-0.3],\n",
        "         [0.1,0.2,0.0],\n",
        "         [0.0,1.3,0.1]]"
      ],
      "metadata": {
        "id": "brFcc2E6yIbF"
      },
      "execution_count": null,
      "outputs": []
    },
    {
      "cell_type": "code",
      "source": [
        "def w_sum(a,b):\n",
        "  assert(len(a)==len(b))\n",
        "  output=0\n",
        "  for i in range(len(a)):\n",
        "    output+=(a[i]*b[i])\n",
        "  return output"
      ],
      "metadata": {
        "id": "GLitdrR_zc_F"
      },
      "execution_count": null,
      "outputs": []
    },
    {
      "cell_type": "code",
      "source": [
        "def vec_mat_mul(vect,matrix):\n",
        "  output=[0,0,0]\n",
        "  assert (len(vect)==len(matrix))\n",
        "  for i in range(len(vect)):\n",
        "    output[i]=w_sum(vect,matrix[i])\n",
        "  return output"
      ],
      "metadata": {
        "id": "ob62VG4CyhE8"
      },
      "execution_count": null,
      "outputs": []
    },
    {
      "cell_type": "code",
      "source": [
        "def neural_network2(input,weights):\n",
        "  pred=vec_mat_mul(input,weights)\n",
        "  return pred"
      ],
      "metadata": {
        "id": "zZiw8p8hy-7W"
      },
      "execution_count": null,
      "outputs": []
    },
    {
      "cell_type": "code",
      "source": [
        "toes=[8.5,9.5,9.9,9.0]\n",
        "wlrec=[0.65,0.8,0.8,0.9]\n",
        "nfans=[1.2,1.3,0.5,1.0]"
      ],
      "metadata": {
        "id": "O_Vijm5PzXfd"
      },
      "execution_count": null,
      "outputs": []
    },
    {
      "cell_type": "code",
      "source": [
        "input=[toes[0],wlrec[0],nfans[0]]\n",
        "pred=neural_network2(input,weights)\n",
        "print(pred)"
      ],
      "metadata": {
        "colab": {
          "base_uri": "https://localhost:8080/"
        },
        "id": "J9y9J85yzxmt",
        "outputId": "95f696d1-a9db-45bc-d66b-c59e59b21613"
      },
      "execution_count": null,
      "outputs": [
        {
          "output_type": "stream",
          "name": "stdout",
          "text": [
            "[0.555, 0.9800000000000001, 0.9650000000000001]\n"
          ]
        }
      ]
    },
    {
      "cell_type": "code",
      "source": [
        "#Type VI\n",
        "\n",
        "          #toes %win #fans\n",
        "ih_weights=[[0.1,0.2,-0.1], #hid[0]\n",
        "         [-0.1,0.1,0.9],     #hid[1]\n",
        "         [0.1,0.4,0.1]]      #hid[2]"
      ],
      "metadata": {
        "id": "FUbkZ_xY2tN-"
      },
      "execution_count": null,
      "outputs": []
    },
    {
      "cell_type": "code",
      "source": [
        "            #hid[0] hid[1] hid[2]\n",
        "hp_weights=[[0.3,1.1,-0.3], #hurt\n",
        "         [0.1,0.2,0.0],     #win\n",
        "         [0.0,1.3,0.1]]     #sad"
      ],
      "metadata": {
        "id": "SPy1R3ul3Gz3"
      },
      "execution_count": null,
      "outputs": []
    },
    {
      "cell_type": "code",
      "source": [
        "weights=[ih_weights,hp_weights]"
      ],
      "metadata": {
        "id": "L8PXKthx3HX9"
      },
      "execution_count": null,
      "outputs": []
    },
    {
      "cell_type": "code",
      "source": [
        "def neural_network3(input,weights):\n",
        "  hid=vec_mat_mul(input,weights[0])\n",
        "  pred=vec_mat_mul(hid,weights[1])\n",
        "  return pred"
      ],
      "metadata": {
        "id": "DJe7DKwO3iJ-"
      },
      "execution_count": null,
      "outputs": []
    },
    {
      "cell_type": "code",
      "source": [
        "toes=[8.5,9.5,9.9,9.0]\n",
        "wlrec=[0.65,0.8,0.8,0.9]\n",
        "nfans=[1.2,1.3,0.5,1.0]"
      ],
      "metadata": {
        "id": "r_bLSfhJ3633"
      },
      "execution_count": null,
      "outputs": []
    },
    {
      "cell_type": "code",
      "source": [
        "input=[toes[0],wlrec[0],nfans[0]]\n",
        "pred=neural_network3(input,weights)\n",
        "print(pred)"
      ],
      "metadata": {
        "colab": {
          "base_uri": "https://localhost:8080/"
        },
        "id": "bg4EySIq3-ZN",
        "outputId": "1b2ea414-476f-4f87-b82e-8859c8b53bc2"
      },
      "execution_count": null,
      "outputs": [
        {
          "output_type": "stream",
          "name": "stdout",
          "text": [
            "[0.21350000000000002, 0.14500000000000002, 0.5065]\n"
          ]
        }
      ]
    },
    {
      "cell_type": "code",
      "source": [
        "#Using Numpy\n",
        "     #toes %win #fans\n",
        "ih_weights=np.array([[0.1,0.2,-0.1], #hid[0]\n",
        "         [-0.1,0.1,0.9],     #hid[1]\n",
        "         [0.1,0.4,0.1]]).T     #hid[2]"
      ],
      "metadata": {
        "id": "fGwiSfK2E2jy"
      },
      "execution_count": null,
      "outputs": []
    },
    {
      "cell_type": "code",
      "source": [
        "hp_weights=np.array([[0.3,1.1,-0.3], #hurt\n",
        "         [0.1,0.2,0.0],     #win\n",
        "         [0.0,1.3,0.1]]).T"
      ],
      "metadata": {
        "id": "8FwwZ2cOFEfH"
      },
      "execution_count": null,
      "outputs": []
    },
    {
      "cell_type": "code",
      "source": [
        "weights=np.array([ih_weights,hp_weights])"
      ],
      "metadata": {
        "id": "yTTXu6TyFMXW"
      },
      "execution_count": null,
      "outputs": []
    },
    {
      "cell_type": "code",
      "source": [
        "weights1=[ih_weights,hp_weights]"
      ],
      "metadata": {
        "id": "V2jYFx1jG4kA"
      },
      "execution_count": null,
      "outputs": []
    },
    {
      "cell_type": "code",
      "source": [
        "weights1 #It's incorrect"
      ],
      "metadata": {
        "colab": {
          "base_uri": "https://localhost:8080/"
        },
        "id": "PNfnviGuG99Q",
        "outputId": "cc05bcdc-e7bc-4097-e164-5c76199fc20b"
      },
      "execution_count": null,
      "outputs": [
        {
          "output_type": "execute_result",
          "data": {
            "text/plain": [
              "[array([[ 0.1, -0.1,  0.1],\n",
              "        [ 0.2,  0.1,  0.4],\n",
              "        [-0.1,  0.9,  0.1]]),\n",
              " array([[ 0.3,  0.1,  0. ],\n",
              "        [ 1.1,  0.2,  1.3],\n",
              "        [-0.3,  0. ,  0.1]])]"
            ]
          },
          "metadata": {},
          "execution_count": 65
        }
      ]
    },
    {
      "cell_type": "code",
      "source": [
        "weights"
      ],
      "metadata": {
        "colab": {
          "base_uri": "https://localhost:8080/"
        },
        "id": "0RpuW8ZwG1FX",
        "outputId": "0bfaa365-54cb-473a-9755-e1ea81a91d5c"
      },
      "execution_count": null,
      "outputs": [
        {
          "output_type": "execute_result",
          "data": {
            "text/plain": [
              "array([[[ 0.1, -0.1,  0.1],\n",
              "        [ 0.2,  0.1,  0.4],\n",
              "        [-0.1,  0.9,  0.1]],\n",
              "\n",
              "       [[ 0.3,  0.1,  0. ],\n",
              "        [ 1.1,  0.2,  1.3],\n",
              "        [-0.3,  0. ,  0.1]]])"
            ]
          },
          "metadata": {},
          "execution_count": 63
        }
      ]
    },
    {
      "cell_type": "code",
      "source": [
        "def neural_network3(input,weights):\n",
        "  hid=input.dot(weights[0])\n",
        "  pred=hid.dot(weights[1])\n",
        "  return pred"
      ],
      "metadata": {
        "id": "PwnkgQDsFQPO"
      },
      "execution_count": null,
      "outputs": []
    },
    {
      "cell_type": "code",
      "source": [
        "toes=np.array([8.5,9.5,9.9,9.0])\n",
        "wlrec=np.array([0.65,0.8,0.8,0.9])\n",
        "nfans=np.array([1.2,1.3,0.5,1.0])"
      ],
      "metadata": {
        "id": "AGxWxDIqFbYW"
      },
      "execution_count": null,
      "outputs": []
    },
    {
      "cell_type": "code",
      "source": [
        "input=np.array([toes[0],wlrec[0],nfans[0]])"
      ],
      "metadata": {
        "id": "Ak5fcL2zFiRY"
      },
      "execution_count": null,
      "outputs": []
    },
    {
      "cell_type": "code",
      "source": [
        "pred=neural_network3(input,weights)\n",
        "print(pred)"
      ],
      "metadata": {
        "colab": {
          "base_uri": "https://localhost:8080/"
        },
        "id": "m2V5e9MrFt7H",
        "outputId": "185aa177-9e13-4984-becf-244ecc864478"
      },
      "execution_count": null,
      "outputs": [
        {
          "output_type": "stream",
          "name": "stdout",
          "text": [
            "[0.2135 0.145  0.5065]\n"
          ]
        }
      ]
    },
    {
      "cell_type": "code",
      "source": [
        "# Feedback\n",
        "knob_weight=0.5\n",
        "input=0.5\n",
        "goal_pred=0.8\n",
        "pred=input*knob_weight\n",
        "error=(pred-goal_pred)**2\n",
        "print(error)"
      ],
      "metadata": {
        "colab": {
          "base_uri": "https://localhost:8080/"
        },
        "id": "mCanokSOITGQ",
        "outputId": "4203ca21-f381-44b4-8d2d-a12c9cf1e335"
      },
      "execution_count": null,
      "outputs": [
        {
          "output_type": "stream",
          "name": "stdout",
          "text": [
            "0.30250000000000005\n"
          ]
        }
      ]
    },
    {
      "cell_type": "code",
      "source": [
        "weight =0.1\n",
        "def neural_network(input,weight):\n",
        "  prediction=input*weight\n",
        "  return prediction\n",
        "\n",
        "number_of_toes=[8.5]\n",
        "win_or_lose_binary=[1]\n",
        "\n",
        "input=number_of_toes[0]\n",
        "true=win_or_lose_binary[0]\n",
        "\n",
        "lr=0.01\n",
        "p_dn=neural_network(input,weight)\n",
        "e_dn=(p_dn-true)**2\n",
        "print(e_dn)\n"
      ],
      "metadata": {
        "colab": {
          "base_uri": "https://localhost:8080/"
        },
        "id": "qrbLgS95KaSg",
        "outputId": "1b6adbdf-ebcd-443f-d3b7-0ff4c9cced57"
      },
      "execution_count": null,
      "outputs": [
        {
          "output_type": "stream",
          "name": "stdout",
          "text": [
            "0.022499999999999975\n"
          ]
        }
      ]
    },
    {
      "cell_type": "code",
      "source": [
        "weight =0.1\n",
        "def neural_network(input,weight):\n",
        "  prediction=input*weight\n",
        "  return prediction\n",
        "\n",
        "number_of_toes=[8.5]\n",
        "win_or_lose_binary=[1]\n",
        "\n",
        "input=number_of_toes[0]\n",
        "true=win_or_lose_binary[0]\n",
        "\n",
        "lr=0.01\n",
        "p_dn=neural_network(input,weight-lr)\n",
        "e_dn=(p_dn-true)**2\n",
        "print(e_dn)"
      ],
      "metadata": {
        "colab": {
          "base_uri": "https://localhost:8080/"
        },
        "id": "oFnS52o_NtdD",
        "outputId": "40fd16df-48b3-486a-f0d6-fc4263849b13"
      },
      "execution_count": null,
      "outputs": [
        {
          "output_type": "stream",
          "name": "stdout",
          "text": [
            "0.05522499999999994\n"
          ]
        }
      ]
    },
    {
      "cell_type": "code",
      "source": [
        "weight =0.1\n",
        "def neural_network(input,weight):\n",
        "  prediction=input*weight\n",
        "  return prediction\n",
        "\n",
        "number_of_toes=[8.5]\n",
        "win_or_lose_binary=[1]\n",
        "\n",
        "input=number_of_toes[0]\n",
        "true=win_or_lose_binary[0]\n",
        "\n",
        "lr=0.01\n",
        "p_dn=neural_network(input,weight+lr)\n",
        "e_dn=(p_dn-true)**2\n",
        "print(e_dn)"
      ],
      "metadata": {
        "colab": {
          "base_uri": "https://localhost:8080/"
        },
        "id": "NxpBaJOSNx7b",
        "outputId": "9b128761-b6ca-4822-f0db-8ccd421c7b4e"
      },
      "execution_count": null,
      "outputs": [
        {
          "output_type": "stream",
          "name": "stdout",
          "text": [
            "0.004224999999999993\n"
          ]
        }
      ]
    },
    {
      "cell_type": "code",
      "source": [
        "weight =0.1\n",
        "def neural_network(input,weight):\n",
        "  prediction=input*weight\n",
        "  return prediction\n",
        "\n",
        "number_of_toes=[8.5]\n",
        "win_or_lose_binary=[1]\n",
        "\n",
        "input=number_of_toes[0]\n",
        "true=win_or_lose_binary[0]\n",
        "\n",
        "lr=0.01\n",
        "i=1\n",
        "for i in range(6):\n",
        "    p_dn=neural_network(input,weight)\n",
        "    e_dn=(p_dn-true)**2\n",
        "    up_prediction=neural_network(input,weight+lr)\n",
        "    uperror=(up_prediction-true)**2\n",
        "    down_prediction=neural_network(input,weight-lr)\n",
        "    downerror=(down_prediction-true)**2\n",
        "\n",
        "    if (uperror>downerror):\n",
        "      weight=weight-lr\n",
        "    if (downerror>uperror):\n",
        "      weight=weight+lr"
      ],
      "metadata": {
        "id": "hY939sOQN2lK"
      },
      "execution_count": null,
      "outputs": []
    },
    {
      "cell_type": "code",
      "source": [
        "weight"
      ],
      "metadata": {
        "colab": {
          "base_uri": "https://localhost:8080/"
        },
        "id": "C0QD5LIERaIL",
        "outputId": "e76d2c6e-32f4-4ace-9c7d-f2f0bc2d8dcf"
      },
      "execution_count": null,
      "outputs": [
        {
          "output_type": "execute_result",
          "data": {
            "text/plain": [
              "0.12"
            ]
          },
          "metadata": {},
          "execution_count": 77
        }
      ]
    },
    {
      "cell_type": "code",
      "source": [
        "#Slide 7\n",
        "weight=0.5\n",
        "goal_pred=0.8\n",
        "input=0.5\n",
        "\n",
        "for i in range(20):\n",
        "  pred=input*weight\n",
        "  error=(pred-goal_pred)**2\n",
        "  direction_and_amount=(pred-goal_pred)*input\n",
        "  weight=weight-direction_and_amount\n",
        "  print(\"Error:\" +str(error) +\" Prediction:\" +str(pred))"
      ],
      "metadata": {
        "colab": {
          "base_uri": "https://localhost:8080/"
        },
        "id": "b5Vj8AVeT-bV",
        "outputId": "38af5977-030c-46f3-f27e-7d648ef99471"
      },
      "execution_count": null,
      "outputs": [
        {
          "output_type": "stream",
          "name": "stdout",
          "text": [
            "Error:0.30250000000000005 Prediction:0.25\n",
            "Error:0.17015625000000004 Prediction:0.3875\n",
            "Error:0.095712890625 Prediction:0.49062500000000003\n",
            "Error:0.05383850097656251 Prediction:0.56796875\n",
            "Error:0.03028415679931642 Prediction:0.6259765625\n",
            "Error:0.0170348381996155 Prediction:0.669482421875\n",
            "Error:0.00958209648728372 Prediction:0.70211181640625\n",
            "Error:0.005389929274097089 Prediction:0.7265838623046875\n",
            "Error:0.0030318352166796153 Prediction:0.7449378967285156\n",
            "Error:0.0017054073093822882 Prediction:0.7587034225463867\n",
            "Error:0.0009592916115275371 Prediction:0.76902756690979\n",
            "Error:0.0005396015314842384 Prediction:0.7767706751823426\n",
            "Error:0.000303525861459885 Prediction:0.7825780063867569\n",
            "Error:0.00017073329707118678 Prediction:0.7869335047900676\n",
            "Error:9.603747960254256e-05 Prediction:0.7902001285925507\n",
            "Error:5.402108227642978e-05 Prediction:0.7926500964444131\n",
            "Error:3.038685878049206e-05 Prediction:0.7944875723333098\n",
            "Error:1.7092608064027242e-05 Prediction:0.7958656792499823\n",
            "Error:9.614592036015323e-06 Prediction:0.7968992594374867\n",
            "Error:5.408208020258491e-06 Prediction:0.7976744445781151\n"
          ]
        }
      ]
    }
  ]
}